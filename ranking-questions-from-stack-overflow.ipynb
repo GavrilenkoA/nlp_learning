{
 "cells": [
  {
   "cell_type": "markdown",
   "id": "543b0d01",
   "metadata": {
    "id": "view-in-github",
    "papermill": {
     "duration": 0.021347,
     "end_time": "2023-01-18T11:56:37.876182",
     "exception": false,
     "start_time": "2023-01-18T11:56:37.854835",
     "status": "completed"
    },
    "tags": []
   },
   "source": [
    "<a href=\"https://colab.research.google.com/github/GavrilenkoA/nlp_learning/blob/simple_embbedings/%D0%9A%D0%BE%D0%BF%D0%B8%D1%8F_%D0%B1%D0%BB%D0%BE%D0%BA%D0%BD%D0%BE%D1%82%D0%B0_%22%5Bhomework%5Dsimple_embeddings_ipynb%22.ipynb\" target=\"_parent\"><img src=\"https://colab.research.google.com/assets/colab-badge.svg\" alt=\"Open In Colab\"/></a>"
   ]
  },
  {
   "cell_type": "markdown",
   "id": "da521a98",
   "metadata": {
    "id": "Ot3c4fjZwC4T",
    "papermill": {
     "duration": 0.018239,
     "end_time": "2023-01-18T11:56:37.914971",
     "exception": false,
     "start_time": "2023-01-18T11:56:37.896732",
     "status": "completed"
    },
    "tags": []
   },
   "source": [
    "<img src=\"https://s8.hostingkartinok.com/uploads/images/2018/08/308b49fcfbc619d629fe4604bceb67ac.jpg\" width=500, height=450>\n",
    "<h3 style=\"text-align: center;\"><b>Физтех-Школа Прикладной математики и информатики (ФПМИ) МФТИ</b></h3>"
   ]
  },
  {
   "cell_type": "markdown",
   "id": "01022751",
   "metadata": {
    "id": "P2JdzEXmwRU5",
    "papermill": {
     "duration": 0.018051,
     "end_time": "2023-01-18T11:56:37.951922",
     "exception": false,
     "start_time": "2023-01-18T11:56:37.933871",
     "status": "completed"
    },
    "tags": []
   },
   "source": [
    "---"
   ]
  },
  {
   "cell_type": "markdown",
   "id": "9d61d323",
   "metadata": {
    "id": "Fc8iHXIVwDwj",
    "papermill": {
     "duration": 0.018178,
     "end_time": "2023-01-18T11:56:37.988762",
     "exception": false,
     "start_time": "2023-01-18T11:56:37.970584",
     "status": "completed"
    },
    "tags": []
   },
   "source": [
    "***Some parts of the notebook are almost the copy of [ mmta-team course](https://github.com/mmta-team/mmta_fall_2020). Special thanks to mmta-team for making them publicly available. [Original notebook](https://github.com/mmta-team/mmta_fall_2020/blob/master/tasks/01_word_embeddings/task_word_embeddings.ipynb).***"
   ]
  },
  {
   "cell_type": "markdown",
   "id": "e96a2d2d",
   "metadata": {
    "id": "7D0wm5jt6j0U",
    "papermill": {
     "duration": 0.024719,
     "end_time": "2023-01-18T11:56:38.036883",
     "exception": false,
     "start_time": "2023-01-18T11:56:38.012164",
     "status": "completed"
    },
    "tags": []
   },
   "source": [
    "<b> Прочитайте семинар, пожалуйста, для успешного выполнения домашнего задания. В конце ноутка напишите свой вывод. Работа без вывода оценивается ниже."
   ]
  },
  {
   "cell_type": "markdown",
   "id": "d5e48294",
   "metadata": {
    "id": "BIWqBuEa6j0b",
    "papermill": {
     "duration": 0.019017,
     "end_time": "2023-01-18T11:56:38.077498",
     "exception": false,
     "start_time": "2023-01-18T11:56:38.058481",
     "status": "completed"
    },
    "tags": []
   },
   "source": [
    "## Задача поиска схожих по смыслу предложений"
   ]
  },
  {
   "cell_type": "markdown",
   "id": "4871b686",
   "metadata": {
    "id": "NUkwMPLA6j0g",
    "papermill": {
     "duration": 0.018189,
     "end_time": "2023-01-18T11:56:38.114983",
     "exception": false,
     "start_time": "2023-01-18T11:56:38.096794",
     "status": "completed"
    },
    "tags": []
   },
   "source": [
    "Мы будем ранжировать вопросы [StackOverflow](https://stackoverflow.com) на основе семантического векторного представления "
   ]
  },
  {
   "cell_type": "markdown",
   "id": "c8cecca9",
   "metadata": {
    "id": "dNRXIEfu5a3Q",
    "papermill": {
     "duration": 0.01828,
     "end_time": "2023-01-18T11:56:38.151948",
     "exception": false,
     "start_time": "2023-01-18T11:56:38.133668",
     "status": "completed"
    },
    "tags": []
   },
   "source": [
    "До этого в курсе не было речи про задачу ранжировния, поэтому введем математическую формулировку"
   ]
  },
  {
   "cell_type": "markdown",
   "id": "7f0b2578",
   "metadata": {
    "id": "uS9FwWNd5a3S",
    "papermill": {
     "duration": 0.018244,
     "end_time": "2023-01-18T11:56:38.188898",
     "exception": false,
     "start_time": "2023-01-18T11:56:38.170654",
     "status": "completed"
    },
    "tags": []
   },
   "source": [
    "## Задача ранжирования(Learning to Rank)"
   ]
  },
  {
   "cell_type": "markdown",
   "id": "f7c4ded8",
   "metadata": {
    "id": "wdwY9-f75a3T",
    "papermill": {
     "duration": 0.019026,
     "end_time": "2023-01-18T11:56:38.227293",
     "exception": false,
     "start_time": "2023-01-18T11:56:38.208267",
     "status": "completed"
    },
    "tags": []
   },
   "source": [
    "* $X$ - множество объектов\n",
    "* $X^l = \\{x_1, x_2, ..., x_l\\}$ - обучающая выборка\n",
    "<br>На обучающей выборке задан порядок между некоторыми элементами, то есть нам известно, что некий объект выборки более релевантный для нас, чем другой:\n",
    "* $i \\prec j$ - порядок пары индексов объектов на выборке $X^l$ c индексами $i$ и $j$\n",
    "### Задача:\n",
    "построить ранжирующую функцию $a$ : $X \\rightarrow R$ такую, что\n",
    "$$i \\prec j \\Rightarrow a(x_i) < a(x_j)$$"
   ]
  },
  {
   "cell_type": "markdown",
   "id": "6b59a9d6",
   "metadata": {
    "id": "WG2IGBsh5a3U",
    "papermill": {
     "duration": 0.018138,
     "end_time": "2023-01-18T11:56:38.264373",
     "exception": false,
     "start_time": "2023-01-18T11:56:38.246235",
     "status": "completed"
    },
    "tags": []
   },
   "source": [
    "<img src=\"https://d25skit2l41vkl.cloudfront.net/wp-content/uploads/2016/12/Featured-Image.jpg\" width=500, height=450>"
   ]
  },
  {
   "cell_type": "markdown",
   "id": "24548a4c",
   "metadata": {
    "id": "MQk_rolFwT_h",
    "papermill": {
     "duration": 0.018312,
     "end_time": "2023-01-18T11:56:38.301225",
     "exception": false,
     "start_time": "2023-01-18T11:56:38.282913",
     "status": "completed"
    },
    "tags": []
   },
   "source": [
    "### Embeddings"
   ]
  },
  {
   "cell_type": "markdown",
   "id": "a0442a1c",
   "metadata": {
    "id": "xUe1PGXn6j0l",
    "papermill": {
     "duration": 0.018702,
     "end_time": "2023-01-18T11:56:38.338237",
     "exception": false,
     "start_time": "2023-01-18T11:56:38.319535",
     "status": "completed"
    },
    "tags": []
   },
   "source": [
    "Будем использовать предобученные векторные представления слов на постах Stack Overflow.<br>\n",
    "[A word2vec model trained on Stack Overflow posts](https://github.com/vefstathiou/SO_word2vec)"
   ]
  },
  {
   "cell_type": "code",
   "execution_count": 1,
   "id": "b7bf9e8e",
   "metadata": {
    "execution": {
     "iopub.execute_input": "2023-01-18T11:56:38.377904Z",
     "iopub.status.busy": "2023-01-18T11:56:38.377149Z",
     "iopub.status.idle": "2023-01-18T12:12:46.220973Z",
     "shell.execute_reply": "2023-01-18T12:12:46.219077Z"
    },
    "id": "mYkI54Y-rk7a",
    "outputId": "ca41c4b7-b2f5-4db8-b1ba-c023ab855c88",
    "papermill": {
     "duration": 967.868016,
     "end_time": "2023-01-18T12:12:46.224825",
     "exception": false,
     "start_time": "2023-01-18T11:56:38.356809",
     "status": "completed"
    },
    "tags": []
   },
   "outputs": [
    {
     "name": "stdout",
     "output_type": "stream",
     "text": [
      "--2023-01-18 11:56:39--  https://zenodo.org/record/1199620/files/SO_vectors_200.bin?download=1\r\n",
      "Resolving zenodo.org (zenodo.org)... 188.185.124.72\r\n",
      "Connecting to zenodo.org (zenodo.org)|188.185.124.72|:443... connected.\r\n",
      "HTTP request sent, awaiting response... 200 OK\r\n",
      "Length: 1453905423 (1.4G) [application/octet-stream]\r\n",
      "Saving to: ‘SO_vectors_200.bin?download=1’\r\n",
      "\r\n",
      "SO_vectors_200.bin? 100%[===================>]   1.35G  19.1MB/s    in 16m 5s  \r\n",
      "\r\n",
      "2023-01-18 12:12:46 (1.44 MB/s) - ‘SO_vectors_200.bin?download=1’ saved [1453905423/1453905423]\r\n",
      "\r\n"
     ]
    }
   ],
   "source": [
    "!wget https://zenodo.org/record/1199620/files/SO_vectors_200.bin?download=1"
   ]
  },
  {
   "cell_type": "code",
   "execution_count": 2,
   "id": "eb48f5ee",
   "metadata": {
    "execution": {
     "iopub.execute_input": "2023-01-18T12:12:46.651983Z",
     "iopub.status.busy": "2023-01-18T12:12:46.650185Z",
     "iopub.status.idle": "2023-01-18T12:13:08.599359Z",
     "shell.execute_reply": "2023-01-18T12:13:08.597856Z"
    },
    "id": "O8YJTOYv6j0s",
    "papermill": {
     "duration": 22.167058,
     "end_time": "2023-01-18T12:13:08.602722",
     "exception": false,
     "start_time": "2023-01-18T12:12:46.435664",
     "status": "completed"
    },
    "tags": []
   },
   "outputs": [],
   "source": [
    "from gensim.models.keyedvectors import KeyedVectors\n",
    "wv_embeddings = KeyedVectors.load_word2vec_format(\"SO_vectors_200.bin?download=1\", binary=True)"
   ]
  },
  {
   "cell_type": "code",
   "execution_count": null,
   "id": "b338c859",
   "metadata": {
    "id": "FCXpvgLsP0wR",
    "papermill": {
     "duration": 0.210952,
     "end_time": "2023-01-18T12:13:09.030604",
     "exception": false,
     "start_time": "2023-01-18T12:13:08.819652",
     "status": "completed"
    },
    "tags": []
   },
   "outputs": [],
   "source": []
  },
  {
   "cell_type": "markdown",
   "id": "0a39726f",
   "metadata": {
    "id": "aIcT_g-C6j1E",
    "papermill": {
     "duration": 0.211314,
     "end_time": "2023-01-18T12:13:09.453395",
     "exception": false,
     "start_time": "2023-01-18T12:13:09.242081",
     "status": "completed"
    },
    "tags": []
   },
   "source": [
    "#### Как пользоваться этими векторами?"
   ]
  },
  {
   "cell_type": "markdown",
   "id": "a4bda70d",
   "metadata": {
    "id": "DWO5SPDY6j1G",
    "papermill": {
     "duration": 0.214604,
     "end_time": "2023-01-18T12:13:09.915682",
     "exception": false,
     "start_time": "2023-01-18T12:13:09.701078",
     "status": "completed"
    },
    "tags": []
   },
   "source": [
    "Посмотрим на примере одного слова, что из себя представляет embedding"
   ]
  },
  {
   "cell_type": "code",
   "execution_count": 3,
   "id": "ef115c7c",
   "metadata": {
    "execution": {
     "iopub.execute_input": "2023-01-18T12:13:10.404383Z",
     "iopub.status.busy": "2023-01-18T12:13:10.403859Z",
     "iopub.status.idle": "2023-01-18T12:13:10.410903Z",
     "shell.execute_reply": "2023-01-18T12:13:10.409433Z"
    },
    "id": "KeSBlQfk6j1J",
    "outputId": "913e50b6-3521-43e6-ed38-53d5cc67db4f",
    "papermill": {
     "duration": 0.285833,
     "end_time": "2023-01-18T12:13:10.413802",
     "exception": false,
     "start_time": "2023-01-18T12:13:10.127969",
     "status": "completed"
    },
    "scrolled": true,
    "tags": []
   },
   "outputs": [
    {
     "name": "stdout",
     "output_type": "stream",
     "text": [
      "float32 (200,)\n"
     ]
    }
   ],
   "source": [
    "word = 'dog'\n",
    "if word in wv_embeddings:\n",
    "    print(wv_embeddings[word].dtype, wv_embeddings[word].shape)"
   ]
  },
  {
   "cell_type": "code",
   "execution_count": 4,
   "id": "f1fdb065",
   "metadata": {
    "execution": {
     "iopub.execute_input": "2023-01-18T12:13:10.845455Z",
     "iopub.status.busy": "2023-01-18T12:13:10.844641Z",
     "iopub.status.idle": "2023-01-18T12:13:10.851186Z",
     "shell.execute_reply": "2023-01-18T12:13:10.849427Z"
    },
    "id": "T4Eq-D1qxpMJ",
    "outputId": "029e9962-4625-4b43-df2d-b3c6879ad66a",
    "papermill": {
     "duration": 0.22516,
     "end_time": "2023-01-18T12:13:10.854203",
     "exception": false,
     "start_time": "2023-01-18T12:13:10.629043",
     "status": "completed"
    },
    "tags": []
   },
   "outputs": [
    {
     "name": "stdout",
     "output_type": "stream",
     "text": [
      "Num of words: 1787145\n"
     ]
    }
   ],
   "source": [
    "print(f\"Num of words: {len(wv_embeddings.index_to_key)}\")"
   ]
  },
  {
   "cell_type": "markdown",
   "id": "a3d04f0b",
   "metadata": {
    "id": "ZT6NTCys6j1Q",
    "papermill": {
     "duration": 0.217075,
     "end_time": "2023-01-18T12:13:11.288709",
     "exception": false,
     "start_time": "2023-01-18T12:13:11.071634",
     "status": "completed"
    },
    "tags": []
   },
   "source": [
    "Найдем наиболее близкие слова к слову `dog`:"
   ]
  },
  {
   "cell_type": "markdown",
   "id": "5f1f4e66",
   "metadata": {
    "id": "n08z2PjMwC5o",
    "papermill": {
     "duration": 0.209517,
     "end_time": "2023-01-18T12:13:11.708434",
     "exception": false,
     "start_time": "2023-01-18T12:13:11.498917",
     "status": "completed"
    },
    "tags": []
   },
   "source": [
    "#### Вопрос 1:\n",
    "* Входит ли слов `cat` топ-5 близких слов к слову `dog`? Какое место? \n",
    "#### Да, входит. Занимает второе место."
   ]
  },
  {
   "cell_type": "code",
   "execution_count": 5,
   "id": "286c017a",
   "metadata": {
    "execution": {
     "iopub.execute_input": "2023-01-18T12:13:12.134991Z",
     "iopub.status.busy": "2023-01-18T12:13:12.134481Z",
     "iopub.status.idle": "2023-01-18T12:13:12.139182Z",
     "shell.execute_reply": "2023-01-18T12:13:12.138313Z"
    },
    "id": "7UPDDRiPMsDB",
    "papermill": {
     "duration": 0.220708,
     "end_time": "2023-01-18T12:13:12.141439",
     "exception": false,
     "start_time": "2023-01-18T12:13:11.920731",
     "status": "completed"
    },
    "tags": []
   },
   "outputs": [],
   "source": [
    "import numpy as np\n",
    "from numpy.linalg import norm"
   ]
  },
  {
   "cell_type": "code",
   "execution_count": 6,
   "id": "e03eb0fb",
   "metadata": {
    "execution": {
     "iopub.execute_input": "2023-01-18T12:13:12.568085Z",
     "iopub.status.busy": "2023-01-18T12:13:12.567259Z",
     "iopub.status.idle": "2023-01-18T12:13:12.713988Z",
     "shell.execute_reply": "2023-01-18T12:13:12.712714Z"
    },
    "id": "BObexpunN-ZB",
    "papermill": {
     "duration": 0.363703,
     "end_time": "2023-01-18T12:13:12.716763",
     "exception": false,
     "start_time": "2023-01-18T12:13:12.353060",
     "status": "completed"
    },
    "tags": []
   },
   "outputs": [],
   "source": [
    "def cosine_similarity(a, b):\n",
    "   similarity = (a @ b)/(norm(a) * norm(b))\n",
    "   return similarity\n"
   ]
  },
  {
   "cell_type": "code",
   "execution_count": 7,
   "id": "b9e3f410",
   "metadata": {
    "execution": {
     "iopub.execute_input": "2023-01-18T12:13:13.224753Z",
     "iopub.status.busy": "2023-01-18T12:13:13.224056Z",
     "iopub.status.idle": "2023-01-18T12:13:45.383873Z",
     "shell.execute_reply": "2023-01-18T12:13:45.382908Z"
    },
    "id": "FdEWVUGDLdzS",
    "papermill": {
     "duration": 32.37542,
     "end_time": "2023-01-18T12:13:45.386683",
     "exception": false,
     "start_time": "2023-01-18T12:13:13.011263",
     "status": "completed"
    },
    "tags": []
   },
   "outputs": [],
   "source": [
    "# method most_simmilar\n",
    "most_simmilar = {}\n",
    "for word in wv_embeddings.index_to_key:\n",
    "  similarity = cosine_similarity(wv_embeddings[\"dog\"], wv_embeddings[word])\n",
    "  most_simmilar[word] = similarity\n",
    "\n",
    "\n"
   ]
  },
  {
   "cell_type": "code",
   "execution_count": 8,
   "id": "9bc63ab8",
   "metadata": {
    "execution": {
     "iopub.execute_input": "2023-01-18T12:13:45.817866Z",
     "iopub.status.busy": "2023-01-18T12:13:45.817073Z",
     "iopub.status.idle": "2023-01-18T12:13:50.245834Z",
     "shell.execute_reply": "2023-01-18T12:13:50.244428Z"
    },
    "id": "pvUe-xAJPYJB",
    "papermill": {
     "duration": 4.648949,
     "end_time": "2023-01-18T12:13:50.249322",
     "exception": false,
     "start_time": "2023-01-18T12:13:45.600373",
     "status": "completed"
    },
    "tags": []
   },
   "outputs": [],
   "source": [
    "most_simmilar = dict(sorted(most_simmilar.items(), key=lambda item: item[1], reverse=True))"
   ]
  },
  {
   "cell_type": "code",
   "execution_count": 9,
   "id": "4744cf75",
   "metadata": {
    "execution": {
     "iopub.execute_input": "2023-01-18T12:13:50.677392Z",
     "iopub.status.busy": "2023-01-18T12:13:50.676587Z",
     "iopub.status.idle": "2023-01-18T12:13:50.682633Z",
     "shell.execute_reply": "2023-01-18T12:13:50.681646Z"
    },
    "id": "m-sNYdwEPQOY",
    "papermill": {
     "duration": 0.224012,
     "end_time": "2023-01-18T12:13:50.685086",
     "exception": false,
     "start_time": "2023-01-18T12:13:50.461074",
     "status": "completed"
    },
    "tags": []
   },
   "outputs": [],
   "source": [
    "top_6 = {}\n",
    "for i, key in enumerate(most_simmilar):\n",
    "  top_6[key] = most_simmilar[key]\n",
    "  i += 1\n",
    "  if i == 7:\n",
    "    break\n"
   ]
  },
  {
   "cell_type": "code",
   "execution_count": 10,
   "id": "fb59c060",
   "metadata": {
    "execution": {
     "iopub.execute_input": "2023-01-18T12:13:51.105745Z",
     "iopub.status.busy": "2023-01-18T12:13:51.104966Z",
     "iopub.status.idle": "2023-01-18T12:13:51.114775Z",
     "shell.execute_reply": "2023-01-18T12:13:51.113631Z"
    },
    "id": "zmy4cgXzQ_6Z",
    "outputId": "90a5cd19-0179-4280-e086-9ae44c94f743",
    "papermill": {
     "duration": 0.222528,
     "end_time": "2023-01-18T12:13:51.117036",
     "exception": false,
     "start_time": "2023-01-18T12:13:50.894508",
     "status": "completed"
    },
    "tags": []
   },
   "outputs": [
    {
     "data": {
      "text/plain": [
       "{'dog': 1.0,\n",
       " 'animal': 0.85641795,\n",
       " 'dogs': 0.7880867,\n",
       " 'mammal': 0.7623804,\n",
       " 'cats': 0.76212525,\n",
       " 'animals': 0.7607938,\n",
       " 'feline': 0.73923975}"
      ]
     },
     "execution_count": 10,
     "metadata": {},
     "output_type": "execute_result"
    }
   ],
   "source": [
    "top_6"
   ]
  },
  {
   "cell_type": "markdown",
   "id": "c5cbf3a4",
   "metadata": {
    "id": "ai48-5vv6j1d",
    "papermill": {
     "duration": 0.212914,
     "end_time": "2023-01-18T12:13:51.540120",
     "exception": false,
     "start_time": "2023-01-18T12:13:51.327206",
     "status": "completed"
    },
    "tags": []
   },
   "source": [
    "### Векторные представления текста\n",
    "\n",
    "Перейдем от векторных представлений отдельных слов к векторным представлениям вопросов, как к **среднему** векторов всех слов в вопросе. Если для какого-то слова нет предобученного вектора, то его нужно пропустить. Если вопрос не содержит ни одного известного слова, то нужно вернуть нулевой вектор."
   ]
  },
  {
   "cell_type": "code",
   "execution_count": 11,
   "id": "44f2097d",
   "metadata": {
    "execution": {
     "iopub.execute_input": "2023-01-18T12:13:52.030709Z",
     "iopub.status.busy": "2023-01-18T12:13:52.029871Z",
     "iopub.status.idle": "2023-01-18T12:13:53.059628Z",
     "shell.execute_reply": "2023-01-18T12:13:53.058178Z"
    },
    "id": "H3EiT8L_Tyic",
    "outputId": "62c1c9fb-a426-4029-edf7-1adf4f780342",
    "papermill": {
     "duration": 1.242558,
     "end_time": "2023-01-18T12:13:53.063236",
     "exception": false,
     "start_time": "2023-01-18T12:13:51.820678",
     "status": "completed"
    },
    "tags": []
   },
   "outputs": [
    {
     "name": "stderr",
     "output_type": "stream",
     "text": [
      "[nltk_data] Downloading package punkt to /usr/share/nltk_data...\n",
      "[nltk_data]   Package punkt is already up-to-date!\n"
     ]
    }
   ],
   "source": [
    "import nltk\n",
    "nltk.download('punkt')\n",
    "from nltk.tokenize import word_tokenize"
   ]
  },
  {
   "cell_type": "code",
   "execution_count": 12,
   "id": "6dbd7a9f",
   "metadata": {
    "execution": {
     "iopub.execute_input": "2023-01-18T12:13:53.484734Z",
     "iopub.status.busy": "2023-01-18T12:13:53.484251Z",
     "iopub.status.idle": "2023-01-18T12:13:53.490504Z",
     "shell.execute_reply": "2023-01-18T12:13:53.488874Z"
    },
    "id": "VUf-PALIT5wR",
    "papermill": {
     "duration": 0.219207,
     "end_time": "2023-01-18T12:13:53.492988",
     "exception": false,
     "start_time": "2023-01-18T12:13:53.273781",
     "status": "completed"
    },
    "tags": []
   },
   "outputs": [],
   "source": [
    "from nltk.tokenize import WordPunctTokenizer"
   ]
  },
  {
   "cell_type": "code",
   "execution_count": 13,
   "id": "46ccb299",
   "metadata": {
    "execution": {
     "iopub.execute_input": "2023-01-18T12:13:53.953930Z",
     "iopub.status.busy": "2023-01-18T12:13:53.953176Z",
     "iopub.status.idle": "2023-01-18T12:13:53.959274Z",
     "shell.execute_reply": "2023-01-18T12:13:53.957762Z"
    },
    "id": "EhNuxBJd6j1f",
    "papermill": {
     "duration": 0.219901,
     "end_time": "2023-01-18T12:13:53.962030",
     "exception": false,
     "start_time": "2023-01-18T12:13:53.742129",
     "status": "completed"
    },
    "tags": []
   },
   "outputs": [],
   "source": [
    "import numpy as np\n",
    "import re\n",
    "# you can use your tokenizer\n",
    "# for example, from nltk.tokenize import WordPunctTokenizer\n",
    "class MyTokenizer:\n",
    "    def __init__(self):\n",
    "        self.tk = WordPunctTokenizer()\n",
    "    def tokenize(self, text):\n",
    "        return self.tk.tokenize(text)"
   ]
  },
  {
   "cell_type": "code",
   "execution_count": 14,
   "id": "cc084c56",
   "metadata": {
    "execution": {
     "iopub.execute_input": "2023-01-18T12:13:54.385205Z",
     "iopub.status.busy": "2023-01-18T12:13:54.384700Z",
     "iopub.status.idle": "2023-01-18T12:13:54.392852Z",
     "shell.execute_reply": "2023-01-18T12:13:54.391439Z"
    },
    "id": "4W2EWM10fJHq",
    "papermill": {
     "duration": 0.223927,
     "end_time": "2023-01-18T12:13:54.395514",
     "exception": false,
     "start_time": "2023-01-18T12:13:54.171587",
     "status": "completed"
    },
    "tags": []
   },
   "outputs": [],
   "source": [
    "tk = MyTokenizer()"
   ]
  },
  {
   "cell_type": "code",
   "execution_count": 15,
   "id": "c7a503d6",
   "metadata": {
    "execution": {
     "iopub.execute_input": "2023-01-18T12:13:54.820162Z",
     "iopub.status.busy": "2023-01-18T12:13:54.819717Z",
     "iopub.status.idle": "2023-01-18T12:13:54.828419Z",
     "shell.execute_reply": "2023-01-18T12:13:54.827079Z"
    },
    "id": "YHcvu6186j1m",
    "papermill": {
     "duration": 0.224716,
     "end_time": "2023-01-18T12:13:54.830727",
     "exception": false,
     "start_time": "2023-01-18T12:13:54.606011",
     "status": "completed"
    },
    "tags": []
   },
   "outputs": [],
   "source": [
    "def question_to_vec(question, embeddings, tokenizer, dim=200):\n",
    "    \"\"\"\n",
    "        question: строка\n",
    "        embeddings: наше векторное представление\n",
    "        dim: размер любого вектора в нашем представлении\n",
    "        return: векторное представление для вопроса\n",
    "    \"\"\"\n",
    "    tokens = tokenizer.tokenize(question)\n",
    "    sent_embed = np.zeros((dim, 1))\n",
    "    for word in tokens:\n",
    "      try:\n",
    "          cur_embed = embeddings[word].reshape(-1, 1)\n",
    "          sent_embed = np.concatenate((sent_embed, cur_embed), axis = 1)\n",
    "      except KeyError:\n",
    "        continue\n",
    "    sent_embed = sent_embed.mean(axis = 1)\n",
    "    return sent_embed"
   ]
  },
  {
   "cell_type": "markdown",
   "id": "7fa404a9",
   "metadata": {
    "id": "u5Q_4j7r6j1u",
    "papermill": {
     "duration": 0.210564,
     "end_time": "2023-01-18T12:13:55.309529",
     "exception": false,
     "start_time": "2023-01-18T12:13:55.098965",
     "status": "completed"
    },
    "tags": []
   },
   "source": [
    "Теперь у нас есть метод для создания векторного представления любого предложения."
   ]
  },
  {
   "cell_type": "markdown",
   "id": "714312a9",
   "metadata": {
    "id": "EsJSNkhm6j1y",
    "papermill": {
     "duration": 0.208404,
     "end_time": "2023-01-18T12:13:55.727452",
     "exception": false,
     "start_time": "2023-01-18T12:13:55.519048",
     "status": "completed"
    },
    "tags": []
   },
   "source": [
    "#### Вопрос 2:\n",
    "* Какая третья(с индексом 2) компонента вектора предложения `I love neural networks` (округлите до 2 знаков после запятой)?"
   ]
  },
  {
   "cell_type": "code",
   "execution_count": 16,
   "id": "b8a72fa7",
   "metadata": {
    "execution": {
     "iopub.execute_input": "2023-01-18T12:13:56.150158Z",
     "iopub.status.busy": "2023-01-18T12:13:56.149749Z",
     "iopub.status.idle": "2023-01-18T12:13:56.155183Z",
     "shell.execute_reply": "2023-01-18T12:13:56.153882Z"
    },
    "id": "a62r11cT6j10",
    "papermill": {
     "duration": 0.220009,
     "end_time": "2023-01-18T12:13:56.157596",
     "exception": false,
     "start_time": "2023-01-18T12:13:55.937587",
     "status": "completed"
    },
    "scrolled": true,
    "tags": []
   },
   "outputs": [],
   "source": [
    "example = \"I love neural networks\""
   ]
  },
  {
   "cell_type": "code",
   "execution_count": 17,
   "id": "ab865d58",
   "metadata": {
    "execution": {
     "iopub.execute_input": "2023-01-18T12:13:56.585256Z",
     "iopub.status.busy": "2023-01-18T12:13:56.584258Z",
     "iopub.status.idle": "2023-01-18T12:13:56.589601Z",
     "shell.execute_reply": "2023-01-18T12:13:56.588455Z"
    },
    "id": "NYKQlkq4bYTs",
    "papermill": {
     "duration": 0.221726,
     "end_time": "2023-01-18T12:13:56.592050",
     "exception": false,
     "start_time": "2023-01-18T12:13:56.370324",
     "status": "completed"
    },
    "tags": []
   },
   "outputs": [],
   "source": [
    "sent_embed = question_to_vec(example, wv_embeddings, tk)"
   ]
  },
  {
   "cell_type": "code",
   "execution_count": 18,
   "id": "9e2dea00",
   "metadata": {
    "execution": {
     "iopub.execute_input": "2023-01-18T12:13:57.015784Z",
     "iopub.status.busy": "2023-01-18T12:13:57.015343Z",
     "iopub.status.idle": "2023-01-18T12:13:57.023106Z",
     "shell.execute_reply": "2023-01-18T12:13:57.021669Z"
    },
    "id": "NQcB2D1ff6Cx",
    "outputId": "1ea8a0ca-905d-47c7-bf32-c82317ca408a",
    "papermill": {
     "duration": 0.219585,
     "end_time": "2023-01-18T12:13:57.025338",
     "exception": false,
     "start_time": "2023-01-18T12:13:56.805753",
     "status": "completed"
    },
    "tags": []
   },
   "outputs": [
    {
     "data": {
      "text/plain": [
       "(200,)"
      ]
     },
     "execution_count": 18,
     "metadata": {},
     "output_type": "execute_result"
    }
   ],
   "source": [
    "sent_embed.shape"
   ]
  },
  {
   "cell_type": "code",
   "execution_count": 19,
   "id": "c2ef9a9b",
   "metadata": {
    "execution": {
     "iopub.execute_input": "2023-01-18T12:13:57.510166Z",
     "iopub.status.busy": "2023-01-18T12:13:57.509674Z",
     "iopub.status.idle": "2023-01-18T12:13:57.517195Z",
     "shell.execute_reply": "2023-01-18T12:13:57.516092Z"
    },
    "id": "oaPUtfjZbopx",
    "outputId": "193ce92b-6f36-4b9f-f4a0-032b9b7e88a3",
    "papermill": {
     "duration": 0.223266,
     "end_time": "2023-01-18T12:13:57.519458",
     "exception": false,
     "start_time": "2023-01-18T12:13:57.296192",
     "status": "completed"
    },
    "tags": []
   },
   "outputs": [
    {
     "data": {
      "text/plain": [
       "-0.96"
      ]
     },
     "execution_count": 19,
     "metadata": {},
     "output_type": "execute_result"
    }
   ],
   "source": [
    "np.round(sent_embed[2], 2)"
   ]
  },
  {
   "cell_type": "markdown",
   "id": "6c420da8",
   "metadata": {
    "id": "Y60z4t6W6j16",
    "papermill": {
     "duration": 0.20951,
     "end_time": "2023-01-18T12:13:57.941430",
     "exception": false,
     "start_time": "2023-01-18T12:13:57.731920",
     "status": "completed"
    },
    "tags": []
   },
   "source": [
    "### Оценка близости текстов\n",
    "\n",
    "Представим, что мы используем идеальные векторные представления слов. Тогда косинусное расстояние между дублирующими предложениями должно быть меньше, чем между случайно взятыми предложениями. \n",
    "\n",
    "Сгенерируем для каждого из $N$ вопросов $R$ случайных отрицательных примеров и примешаем к ним также настоящие дубликаты. Для каждого вопроса будем ранжировать с помощью нашей модели $R + 1$ примеров и смотреть на позицию дубликата. Мы хотим, чтобы дубликат был первым в ранжированном списке.\n",
    "\n",
    "#### Hits@K\n",
    "Первой простой метрикой будет количество корректных попаданий для какого-то $K$:\n",
    "$$ \\text{Hits@K} = \\frac{1}{N}\\sum_{i=1}^N \\, [rank\\_q_i^{'} \\le K],$$\n",
    "* $\\begin{equation*}\n",
    "[x < 0 ] \\equiv \n",
    " \\begin{cases}\n",
    "   1, &x < 0\\\\\n",
    "   0, &x \\geq 0\n",
    " \\end{cases}\n",
    "\\end{equation*}$ - индикаторная функция\n",
    "* $q_i$ - $i$-ый вопрос\n",
    "* $q_i^{'}$ - его дубликат\n",
    "* $rank\\_q_i^{'}$ - позиция дубликата в ранжированном списке ближайших предложений для вопроса $q_i$.\n",
    "\n",
    "#### DCG@K\n",
    "Второй метрикой будет упрощенная DCG метрика, учитывающая порядок элементов в списке путем домножения релевантности элемента на вес равный обратному логарифму номера позиции::\n",
    "$$ \\text{DCG@K} = \\frac{1}{N} \\sum_{i=1}^N\\frac{1}{\\log_2(1+rank\\_q_i^{'})}\\cdot[rank\\_q_i^{'} \\le K],$$\n",
    "С такой метрикой модель штрафуется за большой ранк корректного ответа"
   ]
  },
  {
   "cell_type": "markdown",
   "id": "2496e8c1",
   "metadata": {
    "id": "eHCnH-jw6j18",
    "papermill": {
     "duration": 0.208135,
     "end_time": "2023-01-18T12:13:58.359916",
     "exception": false,
     "start_time": "2023-01-18T12:13:58.151781",
     "status": "completed"
    },
    "tags": []
   },
   "source": [
    "#### Вопрос 3:\n",
    "* Максимум `Hits@47 - DCG@1`?"
   ]
  },
  {
   "cell_type": "markdown",
   "id": "e02c684c",
   "metadata": {
    "id": "_tFemBkP6j1-",
    "papermill": {
     "duration": 0.207779,
     "end_time": "2023-01-18T12:13:58.779369",
     "exception": false,
     "start_time": "2023-01-18T12:13:58.571590",
     "status": "completed"
    },
    "tags": []
   },
   "source": [
    "<img src='https://hsto.org/files/1c5/edf/dee/1c5edfdeebce4b71a86bdf986d9f88f2.jpg' width=400, height=200>"
   ]
  },
  {
   "cell_type": "markdown",
   "id": "52b7e7cb",
   "metadata": {
    "id": "0sUSxk866j1_",
    "papermill": {
     "duration": 0.209423,
     "end_time": "2023-01-18T12:13:59.197744",
     "exception": false,
     "start_time": "2023-01-18T12:13:58.988321",
     "status": "completed"
    },
    "tags": []
   },
   "source": [
    "#### Пример оценок\n",
    "\n",
    "Вычислим описанные выше метрики для игрушечного примера. \n",
    "Пусть\n",
    "* $N = 1$, $R = 3$\n",
    "* <font color='green'>\"Что такое python?\"</font> - вопрос $q_1$\n",
    "* <font color='red'>\"Что такое язык python?\"</font> - его дубликат $q_i^{'}$\n",
    "\n",
    "Пусть модель выдала следующий ранжированный список кандидатов:\n",
    "\n",
    "1. \"Как изучить с++?\"\n",
    "2. <font color='red'>\"Что такое язык python?\"</font>\n",
    "3. \"Хочу учить Java\"\n",
    "4. \"Не понимаю Tensorflow\"\n",
    "\n",
    "$\\Rightarrow rank\\_q_i^{'} = 2$\n",
    "\n",
    "Вычислим метрику *Hits@K* для *K = 1, 4*:\n",
    "\n",
    "- [K = 1] $\\text{Hits@1} =  [rank\\_q_i^{'} \\le 1)] = 0$\n",
    "- [K = 4] $\\text{Hits@4} =  [rank\\_q_i^{'} \\le 4] = 1$\n",
    "\n",
    "Вычислим метрику *DCG@K* для *K = 1, 4*:\n",
    "- [K = 1] $\\text{DCG@1} = \\frac{1}{\\log_2(1+2)}\\cdot[2 \\le 1] = 0$\n",
    "- [K = 4] $\\text{DCG@4} = \\frac{1}{\\log_2(1+2)}\\cdot[2 \\le 4] = \\frac{1}{\\log_2{3}}$"
   ]
  },
  {
   "cell_type": "markdown",
   "id": "fa7b445d",
   "metadata": {
    "id": "B4L6HJJC6j2B",
    "papermill": {
     "duration": 0.2095,
     "end_time": "2023-01-18T12:13:59.673367",
     "exception": false,
     "start_time": "2023-01-18T12:13:59.463867",
     "status": "completed"
    },
    "tags": []
   },
   "source": [
    "#### Вопрос 4:\n",
    "* Вычислите `DCG@10`, если $rank\\_q_i^{'} = 9$(округлите до одного знака после запятой)"
   ]
  },
  {
   "cell_type": "markdown",
   "id": "125ecf93",
   "metadata": {
    "id": "7PalCQJrodTn",
    "papermill": {
     "duration": 0.208751,
     "end_time": "2023-01-18T12:14:00.088786",
     "exception": false,
     "start_time": "2023-01-18T12:13:59.880035",
     "status": "completed"
    },
    "tags": []
   },
   "source": [
    "K = 10\n",
    "rank_qi = 9"
   ]
  },
  {
   "cell_type": "markdown",
   "id": "4f298164",
   "metadata": {
    "id": "J5xWOORI6j2F",
    "papermill": {
     "duration": 0.209861,
     "end_time": "2023-01-18T12:14:00.511397",
     "exception": false,
     "start_time": "2023-01-18T12:14:00.301536",
     "status": "completed"
    },
    "tags": []
   },
   "source": [
    "### HITS\\_COUNT и DCG\\_SCORE"
   ]
  },
  {
   "cell_type": "markdown",
   "id": "acc3dc31",
   "metadata": {
    "id": "I1q9WQOx6j2H",
    "papermill": {
     "duration": 0.209205,
     "end_time": "2023-01-18T12:14:00.934840",
     "exception": false,
     "start_time": "2023-01-18T12:14:00.725635",
     "status": "completed"
    },
    "tags": []
   },
   "source": [
    "Каждая функция имеет два аргумента: $dup\\_ranks$ и $k$. $dup\\_ranks$ является списком, который содержит рейтинги дубликатов(их позиции в ранжированном списке). Например, $dup\\_ranks = [2]$ для примера, описанного выше."
   ]
  },
  {
   "cell_type": "code",
   "execution_count": 20,
   "id": "ebca1c9b",
   "metadata": {
    "execution": {
     "iopub.execute_input": "2023-01-18T12:14:01.355096Z",
     "iopub.status.busy": "2023-01-18T12:14:01.354659Z",
     "iopub.status.idle": "2023-01-18T12:14:01.361170Z",
     "shell.execute_reply": "2023-01-18T12:14:01.359703Z"
    },
    "id": "F5VwySUB6j2J",
    "papermill": {
     "duration": 0.221581,
     "end_time": "2023-01-18T12:14:01.363484",
     "exception": false,
     "start_time": "2023-01-18T12:14:01.141903",
     "status": "completed"
    },
    "tags": []
   },
   "outputs": [],
   "source": [
    "def hits_count(dup_ranks, k):\n",
    "    \"\"\"\n",
    "        dup_ranks: list индексов дубликатов\n",
    "        result: вернуть  Hits@k\n",
    "    \"\"\"\n",
    "    hits_k = []\n",
    "    for i in dup_ranks:\n",
    "      value = 1 if i <= k else 0\n",
    "      hits_k.append(value)\n",
    "      \n",
    "    return np.mean(hits_k)    "
   ]
  },
  {
   "cell_type": "code",
   "execution_count": 21,
   "id": "5561d6ca",
   "metadata": {
    "execution": {
     "iopub.execute_input": "2023-01-18T12:14:01.843816Z",
     "iopub.status.busy": "2023-01-18T12:14:01.843371Z",
     "iopub.status.idle": "2023-01-18T12:14:01.850673Z",
     "shell.execute_reply": "2023-01-18T12:14:01.849241Z"
    },
    "id": "82hQaxCH6j2R",
    "papermill": {
     "duration": 0.223049,
     "end_time": "2023-01-18T12:14:01.853035",
     "exception": false,
     "start_time": "2023-01-18T12:14:01.629986",
     "status": "completed"
    },
    "tags": []
   },
   "outputs": [],
   "source": [
    "def dcg_score(dup_ranks, k):\n",
    "    \"\"\"\n",
    "        dup_ranks: list индексов дубликатов\n",
    "        result: вернуть DCG@k\n",
    "    \"\"\"\n",
    "    dcg_k = []\n",
    "    for i in dup_ranks:\n",
    "      value = 1 if i <= k else 0\n",
    "      weight = 1/(np.log2(1+i))\n",
    "      dcg_k.append(weight*value)\n",
    "    \n",
    "    return np.mean(dcg_k)    "
   ]
  },
  {
   "cell_type": "markdown",
   "id": "acca1177",
   "metadata": {
    "id": "PcwHeXN26j2Y",
    "papermill": {
     "duration": 0.214504,
     "end_time": "2023-01-18T12:14:02.282747",
     "exception": false,
     "start_time": "2023-01-18T12:14:02.068243",
     "status": "completed"
    },
    "tags": []
   },
   "source": [
    "Протестируем функции. Пусть $N = 1$, то есть один эксперимент. Будем искать копию вопроса и оценивать метрики."
   ]
  },
  {
   "cell_type": "code",
   "execution_count": 22,
   "id": "630b4279",
   "metadata": {
    "execution": {
     "iopub.execute_input": "2023-01-18T12:14:02.708670Z",
     "iopub.status.busy": "2023-01-18T12:14:02.708271Z",
     "iopub.status.idle": "2023-01-18T12:14:02.713118Z",
     "shell.execute_reply": "2023-01-18T12:14:02.712189Z"
    },
    "id": "fjISmOEW6j2h",
    "papermill": {
     "duration": 0.220204,
     "end_time": "2023-01-18T12:14:02.715554",
     "exception": false,
     "start_time": "2023-01-18T12:14:02.495350",
     "status": "completed"
    },
    "tags": []
   },
   "outputs": [],
   "source": [
    "import pandas as pd"
   ]
  },
  {
   "cell_type": "code",
   "execution_count": 23,
   "id": "88b6a5aa",
   "metadata": {
    "execution": {
     "iopub.execute_input": "2023-01-18T12:14:03.140857Z",
     "iopub.status.busy": "2023-01-18T12:14:03.140443Z",
     "iopub.status.idle": "2023-01-18T12:14:03.148622Z",
     "shell.execute_reply": "2023-01-18T12:14:03.147313Z"
    },
    "id": "gLa_Wqfh6j2m",
    "outputId": "332683b8-342f-4637-e2fb-d45fccb22ca2",
    "papermill": {
     "duration": 0.22431,
     "end_time": "2023-01-18T12:14:03.151261",
     "exception": false,
     "start_time": "2023-01-18T12:14:02.926951",
     "status": "completed"
    },
    "tags": []
   },
   "outputs": [
    {
     "name": "stdout",
     "output_type": "stream",
     "text": [
      "Ваш ответ HIT: [0.0, 1.0, 1.0, 1.0]\n",
      "Ваш ответ DCG: [0.0, 0.63093, 0.63093, 0.63093]\n"
     ]
    }
   ],
   "source": [
    "copy_answers = [\"How does the catch keyword determine the type of exception that was thrown\",]\n",
    "\n",
    "# наги кандидаты\n",
    "candidates_ranking = [[\"How Can I Make These Links Rotate in PHP\",\n",
    "                       \"How does the catch keyword determine the type of exception that was thrown\",\n",
    "                       \"NSLog array description not memory address\",\n",
    "                       \"PECL_HTTP not recognised php ubuntu\"],]\n",
    "# dup_ranks — позиции наших копий, так как эксперимент один, то этот массив длины 1\n",
    "dup_ranks = [2]\n",
    "\n",
    "# вычисляем метрику для разных k\n",
    "print('Ваш ответ HIT:', [hits_count(dup_ranks, k) for k in range(1, 5)])\n",
    "print('Ваш ответ DCG:', [round(dcg_score(dup_ranks, k), 5) for k in range(1, 5)])"
   ]
  },
  {
   "cell_type": "markdown",
   "id": "76a7e107",
   "metadata": {
    "id": "MoHC3YoQ6j2t",
    "papermill": {
     "duration": 0.213478,
     "end_time": "2023-01-18T12:14:03.579373",
     "exception": false,
     "start_time": "2023-01-18T12:14:03.365895",
     "status": "completed"
    },
    "tags": []
   },
   "source": [
    "У вас должно получиться"
   ]
  },
  {
   "cell_type": "code",
   "execution_count": 24,
   "id": "13ee9982",
   "metadata": {
    "execution": {
     "iopub.execute_input": "2023-01-18T12:14:04.071229Z",
     "iopub.status.busy": "2023-01-18T12:14:04.070796Z",
     "iopub.status.idle": "2023-01-18T12:14:04.098664Z",
     "shell.execute_reply": "2023-01-18T12:14:04.097318Z"
    },
    "id": "B0NFWq4f6j2u",
    "outputId": "2fe25f4c-f819-491c-dbf4-63bc96de16fd",
    "papermill": {
     "duration": 0.248112,
     "end_time": "2023-01-18T12:14:04.101599",
     "exception": false,
     "start_time": "2023-01-18T12:14:03.853487",
     "status": "completed"
    },
    "scrolled": true,
    "tags": []
   },
   "outputs": [
    {
     "data": {
      "text/html": [
       "<div>\n",
       "<style scoped>\n",
       "    .dataframe tbody tr th:only-of-type {\n",
       "        vertical-align: middle;\n",
       "    }\n",
       "\n",
       "    .dataframe tbody tr th {\n",
       "        vertical-align: top;\n",
       "    }\n",
       "\n",
       "    .dataframe thead th {\n",
       "        text-align: right;\n",
       "    }\n",
       "</style>\n",
       "<table border=\"1\" class=\"dataframe\">\n",
       "  <thead>\n",
       "    <tr style=\"text-align: right;\">\n",
       "      <th></th>\n",
       "      <th>1</th>\n",
       "      <th>2</th>\n",
       "      <th>3</th>\n",
       "      <th>4</th>\n",
       "    </tr>\n",
       "  </thead>\n",
       "  <tbody>\n",
       "    <tr>\n",
       "      <th>HITS</th>\n",
       "      <td>0</td>\n",
       "      <td>1.00000</td>\n",
       "      <td>1.00000</td>\n",
       "      <td>1.00000</td>\n",
       "    </tr>\n",
       "    <tr>\n",
       "      <th>DCG</th>\n",
       "      <td>0</td>\n",
       "      <td>0.63093</td>\n",
       "      <td>0.63093</td>\n",
       "      <td>0.63093</td>\n",
       "    </tr>\n",
       "  </tbody>\n",
       "</table>\n",
       "</div>"
      ],
      "text/plain": [
       "      1        2        3        4\n",
       "HITS  0  1.00000  1.00000  1.00000\n",
       "DCG   0  0.63093  0.63093  0.63093"
      ]
     },
     "execution_count": 24,
     "metadata": {},
     "output_type": "execute_result"
    }
   ],
   "source": [
    "# correct_answers - метрика для разных k\n",
    "correct_answers = pd.DataFrame([[0, 1, 1, 1], [0, 1 / (np.log2(3)), 1 / (np.log2(3)), 1 / (np.log2(3))]],\n",
    "                               index=['HITS', 'DCG'], columns=range(1,5))\n",
    "correct_answers"
   ]
  },
  {
   "cell_type": "markdown",
   "id": "a7a1cae6",
   "metadata": {
    "id": "tHZqgDTo6j0i",
    "papermill": {
     "duration": 0.208307,
     "end_time": "2023-01-18T12:14:04.523526",
     "exception": false,
     "start_time": "2023-01-18T12:14:04.315219",
     "status": "completed"
    },
    "tags": []
   },
   "source": [
    "### Данные\n",
    "[arxiv link](https://drive.google.com/file/d/1QqT4D0EoqJTy7v9VrNCYD-m964XZFR7_/edit)\n",
    "\n",
    "`train.tsv` - выборка для обучения.<br> В каждой строке через табуляцию записаны: **<вопрос>, <похожий вопрос>**\n",
    "\n",
    "`validation.tsv` - тестовая выборка.<br> В каждой строке через табуляцию записаны: **<вопрос>, <похожий вопрос>, <отрицательный пример 1>, <отрицательный пример 2>, ...**"
   ]
  },
  {
   "cell_type": "code",
   "execution_count": 25,
   "id": "bdf509a6",
   "metadata": {
    "execution": {
     "iopub.execute_input": "2023-01-18T12:14:04.986750Z",
     "iopub.status.busy": "2023-01-18T12:14:04.986301Z",
     "iopub.status.idle": "2023-01-18T12:14:04.992228Z",
     "shell.execute_reply": "2023-01-18T12:14:04.990892Z"
    },
    "id": "HChyh46lrKMk",
    "outputId": "95d94436-d64d-4468-e867-fe3a02b58f12",
    "papermill": {
     "duration": 0.220247,
     "end_time": "2023-01-18T12:14:04.994673",
     "exception": false,
     "start_time": "2023-01-18T12:14:04.774426",
     "status": "completed"
    },
    "tags": []
   },
   "outputs": [],
   "source": [
    "#!unzip '/content/stackoverflow_similar_questions.zip'"
   ]
  },
  {
   "cell_type": "code",
   "execution_count": 26,
   "id": "ef6185cd",
   "metadata": {
    "execution": {
     "iopub.execute_input": "2023-01-18T12:14:05.425111Z",
     "iopub.status.busy": "2023-01-18T12:14:05.424659Z",
     "iopub.status.idle": "2023-01-18T12:14:05.431960Z",
     "shell.execute_reply": "2023-01-18T12:14:05.430548Z"
    },
    "id": "ez_v2CjDsjsp",
    "outputId": "0e7ed818-cf25-4db4-bf7c-7a638b672a24",
    "papermill": {
     "duration": 0.229101,
     "end_time": "2023-01-18T12:14:05.434498",
     "exception": false,
     "start_time": "2023-01-18T12:14:05.205397",
     "status": "completed"
    },
    "tags": []
   },
   "outputs": [
    {
     "name": "stderr",
     "output_type": "stream",
     "text": [
      "[nltk_data] Downloading package punkt to /usr/share/nltk_data...\n",
      "[nltk_data]   Package punkt is already up-to-date!\n"
     ]
    }
   ],
   "source": [
    "import nltk\n",
    "nltk.download('punkt')\n",
    "from nltk.tokenize import word_tokenize, sent_tokenize"
   ]
  },
  {
   "cell_type": "markdown",
   "id": "a88f2189",
   "metadata": {
    "id": "hil2UsUG6j22",
    "papermill": {
     "duration": 0.21441,
     "end_time": "2023-01-18T12:14:05.860383",
     "exception": false,
     "start_time": "2023-01-18T12:14:05.645973",
     "status": "completed"
    },
    "tags": []
   },
   "source": [
    "__Считайте данные.__"
   ]
  },
  {
   "cell_type": "code",
   "execution_count": 27,
   "id": "2ab786db",
   "metadata": {
    "execution": {
     "iopub.execute_input": "2023-01-18T12:14:06.352507Z",
     "iopub.status.busy": "2023-01-18T12:14:06.352076Z",
     "iopub.status.idle": "2023-01-18T12:14:06.358354Z",
     "shell.execute_reply": "2023-01-18T12:14:06.356915Z"
    },
    "id": "B4EBho8s6j26",
    "papermill": {
     "duration": 0.22196,
     "end_time": "2023-01-18T12:14:06.360555",
     "exception": false,
     "start_time": "2023-01-18T12:14:06.138595",
     "status": "completed"
    },
    "tags": []
   },
   "outputs": [],
   "source": [
    "def read_corpus(filename):\n",
    "    data = []\n",
    "    for line in open(filename, encoding='utf-8'):\n",
    "        data.append(sent_tokenize(line))\n",
    "    return data"
   ]
  },
  {
   "cell_type": "markdown",
   "id": "d85d3e8e",
   "metadata": {
    "id": "kkTxY3Mk9_nG",
    "papermill": {
     "duration": 0.209267,
     "end_time": "2023-01-18T12:14:06.781891",
     "exception": false,
     "start_time": "2023-01-18T12:14:06.572624",
     "status": "completed"
    },
    "tags": []
   },
   "source": [
    "Нам понадобиться только файл validation."
   ]
  },
  {
   "cell_type": "code",
   "execution_count": 28,
   "id": "0299705e",
   "metadata": {
    "execution": {
     "iopub.execute_input": "2023-01-18T12:14:07.202828Z",
     "iopub.status.busy": "2023-01-18T12:14:07.202382Z",
     "iopub.status.idle": "2023-01-18T12:14:37.997792Z",
     "shell.execute_reply": "2023-01-18T12:14:37.996276Z"
    },
    "id": "PTVB9Tnp6j29",
    "papermill": {
     "duration": 31.010596,
     "end_time": "2023-01-18T12:14:38.001062",
     "exception": false,
     "start_time": "2023-01-18T12:14:06.990466",
     "status": "completed"
    },
    "tags": []
   },
   "outputs": [],
   "source": [
    "validation_data = read_corpus('/kaggle/input/nlp-learning/data/validation.tsv')"
   ]
  },
  {
   "cell_type": "code",
   "execution_count": 29,
   "id": "5e180db0",
   "metadata": {
    "execution": {
     "iopub.execute_input": "2023-01-18T12:14:38.428743Z",
     "iopub.status.busy": "2023-01-18T12:14:38.428047Z",
     "iopub.status.idle": "2023-01-18T12:14:38.434686Z",
     "shell.execute_reply": "2023-01-18T12:14:38.433212Z"
    },
    "papermill": {
     "duration": 0.221322,
     "end_time": "2023-01-18T12:14:38.437371",
     "exception": false,
     "start_time": "2023-01-18T12:14:38.216049",
     "status": "completed"
    },
    "tags": []
   },
   "outputs": [],
   "source": [
    "def read_corpus(filename):\n",
    "    data = []\n",
    "    for line in open(filename, encoding='utf-8'):\n",
    "        data.append(line.split(\"\\t\"))\n",
    "    return data"
   ]
  },
  {
   "cell_type": "code",
   "execution_count": 30,
   "id": "c1efa237",
   "metadata": {
    "execution": {
     "iopub.execute_input": "2023-01-18T12:14:38.862225Z",
     "iopub.status.busy": "2023-01-18T12:14:38.861787Z",
     "iopub.status.idle": "2023-01-18T12:14:40.480193Z",
     "shell.execute_reply": "2023-01-18T12:14:40.478977Z"
    },
    "papermill": {
     "duration": 1.837502,
     "end_time": "2023-01-18T12:14:40.483383",
     "exception": false,
     "start_time": "2023-01-18T12:14:38.645881",
     "status": "completed"
    },
    "tags": []
   },
   "outputs": [],
   "source": [
    "validation_data = read_corpus('/kaggle/input/nlp-learning/data/validation.tsv')"
   ]
  },
  {
   "cell_type": "markdown",
   "id": "bb3cf67b",
   "metadata": {
    "execution": {
     "iopub.execute_input": "2023-01-18T08:07:28.886945Z",
     "iopub.status.busy": "2023-01-18T08:07:28.886518Z",
     "iopub.status.idle": "2023-01-18T08:07:28.892079Z",
     "shell.execute_reply": "2023-01-18T08:07:28.890986Z",
     "shell.execute_reply.started": "2023-01-18T08:07:28.886910Z"
    },
    "papermill": {
     "duration": 0.218343,
     "end_time": "2023-01-18T12:14:41.004643",
     "exception": false,
     "start_time": "2023-01-18T12:14:40.786300",
     "status": "completed"
    },
    "tags": []
   },
   "source": [
    "__кол-во токенизированных предложений__"
   ]
  },
  {
   "cell_type": "code",
   "execution_count": 31,
   "id": "24cb86a0",
   "metadata": {
    "execution": {
     "iopub.execute_input": "2023-01-18T12:14:41.438836Z",
     "iopub.status.busy": "2023-01-18T12:14:41.438364Z",
     "iopub.status.idle": "2023-01-18T12:14:41.446455Z",
     "shell.execute_reply": "2023-01-18T12:14:41.445078Z"
    },
    "id": "z6ubXhIe6j3H",
    "papermill": {
     "duration": 0.22445,
     "end_time": "2023-01-18T12:14:41.448672",
     "exception": false,
     "start_time": "2023-01-18T12:14:41.224222",
     "status": "completed"
    },
    "tags": []
   },
   "outputs": [
    {
     "data": {
      "text/plain": [
       "3760"
      ]
     },
     "execution_count": 31,
     "metadata": {},
     "output_type": "execute_result"
    }
   ],
   "source": [
    "len(validation_data)"
   ]
  },
  {
   "cell_type": "markdown",
   "id": "36c13386",
   "metadata": {
    "id": "kaOQblBy6j3M",
    "papermill": {
     "duration": 0.211253,
     "end_time": "2023-01-18T12:14:41.873935",
     "exception": false,
     "start_time": "2023-01-18T12:14:41.662682",
     "status": "completed"
    },
    "tags": []
   },
   "source": [
    "Размер нескольких первых строк"
   ]
  },
  {
   "cell_type": "code",
   "execution_count": 32,
   "id": "383c1001",
   "metadata": {
    "execution": {
     "iopub.execute_input": "2023-01-18T12:14:42.307418Z",
     "iopub.status.busy": "2023-01-18T12:14:42.306577Z",
     "iopub.status.idle": "2023-01-18T12:14:42.314325Z",
     "shell.execute_reply": "2023-01-18T12:14:42.312531Z"
    },
    "id": "yRx6e-Pe6j3M",
    "papermill": {
     "duration": 0.230085,
     "end_time": "2023-01-18T12:14:42.317212",
     "exception": false,
     "start_time": "2023-01-18T12:14:42.087127",
     "status": "completed"
    },
    "tags": []
   },
   "outputs": [
    {
     "name": "stdout",
     "output_type": "stream",
     "text": [
      "1 1001\n",
      "2 1001\n",
      "3 1001\n",
      "4 1001\n",
      "5 1001\n"
     ]
    }
   ],
   "source": [
    "for i in range(5):\n",
    "    print(i + 1, len(validation_data[i]))"
   ]
  },
  {
   "cell_type": "markdown",
   "id": "8beb1dbb",
   "metadata": {
    "id": "ySQQp0oQt1Ep",
    "papermill": {
     "duration": 0.210573,
     "end_time": "2023-01-18T12:14:42.742299",
     "exception": false,
     "start_time": "2023-01-18T12:14:42.531726",
     "status": "completed"
    },
    "tags": []
   },
   "source": [
    "### Ранжирование без обучения"
   ]
  },
  {
   "cell_type": "markdown",
   "id": "46e5979a",
   "metadata": {
    "id": "iElEDhj-6j3R",
    "papermill": {
     "duration": 0.213479,
     "end_time": "2023-01-18T12:14:43.239593",
     "exception": false,
     "start_time": "2023-01-18T12:14:43.026114",
     "status": "completed"
    },
    "tags": []
   },
   "source": [
    "1. Реализуйте функцию ранжирования кандидатов на основе косинусного расстояния. Функция должна по списку кандидатов вернуть отсортированный список пар (позиция в исходном списке кандидатов, кандидат). При этом позиция кандидата в полученном списке является его рейтингом (первый - лучший). Например, если исходный список кандидатов был [a, b, c], и самый похожий на исходный вопрос среди них - c, затем a, и в конце b, то функция должна вернуть список **[(2, c), (0, a), (1, b)]**."
   ]
  },
  {
   "cell_type": "code",
   "execution_count": 33,
   "id": "45a6ee1f",
   "metadata": {
    "execution": {
     "iopub.execute_input": "2023-01-18T12:14:43.664002Z",
     "iopub.status.busy": "2023-01-18T12:14:43.663586Z",
     "iopub.status.idle": "2023-01-18T12:14:43.668282Z",
     "shell.execute_reply": "2023-01-18T12:14:43.667395Z"
    },
    "id": "K02JARKr6j3T",
    "papermill": {
     "duration": 0.217084,
     "end_time": "2023-01-18T12:14:43.670441",
     "exception": false,
     "start_time": "2023-01-18T12:14:43.453357",
     "status": "completed"
    },
    "tags": []
   },
   "outputs": [],
   "source": [
    "#from sklearn.metrics.pairwise import cosine_similarity\n",
    "from copy import deepcopy"
   ]
  },
  {
   "cell_type": "code",
   "execution_count": 34,
   "id": "d4c0a07b",
   "metadata": {
    "execution": {
     "iopub.execute_input": "2023-01-18T12:14:44.095384Z",
     "iopub.status.busy": "2023-01-18T12:14:44.094673Z",
     "iopub.status.idle": "2023-01-18T12:14:44.102375Z",
     "shell.execute_reply": "2023-01-18T12:14:44.101263Z"
    },
    "id": "1yP8wJWj6j3X",
    "papermill": {
     "duration": 0.222359,
     "end_time": "2023-01-18T12:14:44.104955",
     "exception": false,
     "start_time": "2023-01-18T12:14:43.882596",
     "status": "completed"
    },
    "tags": []
   },
   "outputs": [],
   "source": [
    "def rank_candidates(question, candidates, embeddings, tokenizer, dim=200):\n",
    "    \"\"\"\n",
    "        question: строка\n",
    "        candidates: массив строк(кандидатов) [a, b, c]\n",
    "        result: пары (начальная позиция, кандидат) [(2, c), (0, a), (1, b)]\n",
    "    \"\"\"\n",
    "    quest_embed = question_to_vec(question, wv_embeddings, tk)\n",
    "    result = []\n",
    "    for i in range(len(candidates)):\n",
    "        cur_cand_embed = question_to_vec(candidates[i], embeddings, tk)\n",
    "        value = cosine_similarity(quest_embed, cur_cand_embed)\n",
    "        result.append((value, i, candidates[i]))\n",
    "    result = sorted(result, key = lambda x: x[0], reverse = True)\n",
    "    result = [(item[1], item[2]) for item in result]\n",
    "    return result\n",
    "        \n",
    "    \n",
    "    "
   ]
  },
  {
   "cell_type": "markdown",
   "id": "96413a68",
   "metadata": {
    "id": "TnBszTb76j3c",
    "papermill": {
     "duration": 0.207053,
     "end_time": "2023-01-18T12:14:44.522642",
     "exception": false,
     "start_time": "2023-01-18T12:14:44.315589",
     "status": "completed"
    },
    "tags": []
   },
   "source": [
    "Протестируйте работу функции на примерах ниже. Пусть $N=2$, то есть два эксперимента"
   ]
  },
  {
   "cell_type": "code",
   "execution_count": 35,
   "id": "ae3e1a33",
   "metadata": {
    "execution": {
     "iopub.execute_input": "2023-01-18T12:14:44.941305Z",
     "iopub.status.busy": "2023-01-18T12:14:44.940548Z",
     "iopub.status.idle": "2023-01-18T12:14:44.946087Z",
     "shell.execute_reply": "2023-01-18T12:14:44.944943Z"
    },
    "id": "xvQgtP176j3h",
    "papermill": {
     "duration": 0.218961,
     "end_time": "2023-01-18T12:14:44.948364",
     "exception": false,
     "start_time": "2023-01-18T12:14:44.729403",
     "status": "completed"
    },
    "tags": []
   },
   "outputs": [],
   "source": [
    "questions = ['converting string to list', 'Sending array via Ajax fails'] \n",
    "\n",
    "candidates = [['Convert Google results object (pure js) to Python object', # первый эксперимент\n",
    "               'C# create cookie from string and send it',\n",
    "               'How to use jQuery AJAX for an outside domain?'],\n",
    "              \n",
    "              ['Getting all list items of an unordered list in PHP',      # второй эксперимент\n",
    "               'WPF- How to update the changes in list item of a list',\n",
    "               'select2 not displaying search results']]"
   ]
  },
  {
   "cell_type": "code",
   "execution_count": 36,
   "id": "d14d74c3",
   "metadata": {
    "execution": {
     "iopub.execute_input": "2023-01-18T12:14:45.432473Z",
     "iopub.status.busy": "2023-01-18T12:14:45.431997Z",
     "iopub.status.idle": "2023-01-18T12:14:45.441031Z",
     "shell.execute_reply": "2023-01-18T12:14:45.439359Z"
    },
    "id": "bPj1JGFi6j3m",
    "papermill": {
     "duration": 0.223927,
     "end_time": "2023-01-18T12:14:45.443121",
     "exception": false,
     "start_time": "2023-01-18T12:14:45.219194",
     "status": "completed"
    },
    "tags": []
   },
   "outputs": [
    {
     "name": "stdout",
     "output_type": "stream",
     "text": [
      "[(1, 'C# create cookie from string and send it'), (0, 'Convert Google results object (pure js) to Python object'), (2, 'How to use jQuery AJAX for an outside domain?')]\n",
      "\n",
      "[(1, 'WPF- How to update the changes in list item of a list'), (0, 'Getting all list items of an unordered list in PHP'), (2, 'select2 not displaying search results')]\n",
      "\n"
     ]
    }
   ],
   "source": [
    "for question, q_candidates in zip(questions, candidates):\n",
    "        ranks = rank_candidates(question, q_candidates, wv_embeddings, tk)\n",
    "        print(ranks)\n",
    "        print()"
   ]
  },
  {
   "cell_type": "markdown",
   "id": "0bc12834",
   "metadata": {
    "id": "jm4cidj56j3q",
    "papermill": {
     "duration": 0.207944,
     "end_time": "2023-01-18T12:14:45.859543",
     "exception": false,
     "start_time": "2023-01-18T12:14:45.651599",
     "status": "completed"
    },
    "tags": []
   },
   "source": [
    "Для первого экперимента вы можете полностью сравнить ваши ответы и правильные ответы. Но для второго эксперимента два ответа на кандидаты будут <b>скрыты</b>(*)"
   ]
  },
  {
   "cell_type": "code",
   "execution_count": 37,
   "id": "a964ed46",
   "metadata": {
    "execution": {
     "iopub.execute_input": "2023-01-18T12:14:46.284045Z",
     "iopub.status.busy": "2023-01-18T12:14:46.283648Z",
     "iopub.status.idle": "2023-01-18T12:14:46.289102Z",
     "shell.execute_reply": "2023-01-18T12:14:46.287850Z"
    },
    "id": "0LeKMIsn6j3s",
    "papermill": {
     "duration": 0.221724,
     "end_time": "2023-01-18T12:14:46.291244",
     "exception": false,
     "start_time": "2023-01-18T12:14:46.069520",
     "status": "completed"
    },
    "tags": []
   },
   "outputs": [],
   "source": [
    "# должно вывести\n",
    "# results = [[(1, 'C# create cookie from string and send it'),\n",
    "#             (0, 'Convert Google results object (pure js) to Python object'),\n",
    "#             (2, 'How to use jQuery AJAX for an outside domain?')],\n",
    "#            [(*, 'Getting all list items of an unordered list in PHP'), #скрыт\n",
    "#             (*, 'select2 not displaying search results'), #скрыт\n",
    "#             (*, 'WPF- How to update the changes in list item of a list')]] #скрыт"
   ]
  },
  {
   "cell_type": "markdown",
   "id": "c04ed509",
   "metadata": {
    "id": "t1ttnIBe6j3x",
    "papermill": {
     "duration": 0.208338,
     "end_time": "2023-01-18T12:14:46.708663",
     "exception": false,
     "start_time": "2023-01-18T12:14:46.500325",
     "status": "completed"
    },
    "tags": []
   },
   "source": [
    "Последовательность начальных индексов вы должны получить `для эксперимента 1`  1, 0, 2."
   ]
  },
  {
   "cell_type": "markdown",
   "id": "feaff793",
   "metadata": {
    "id": "5WQgYDWd6j3y",
    "papermill": {
     "duration": 0.20866,
     "end_time": "2023-01-18T12:14:47.127771",
     "exception": false,
     "start_time": "2023-01-18T12:14:46.919111",
     "status": "completed"
    },
    "tags": []
   },
   "source": [
    "#### Вопрос 5:\n",
    "* Какую последовательность начальных индексов вы получили `для эксперимента 2`(перечисление без запятой и пробелов, например, `102` для первого эксперимента?"
   ]
  },
  {
   "cell_type": "markdown",
   "id": "465c3634",
   "metadata": {
    "papermill": {
     "duration": 0.21702,
     "end_time": "2023-01-18T12:14:47.619873",
     "exception": false,
     "start_time": "2023-01-18T12:14:47.402853",
     "status": "completed"
    },
    "tags": []
   },
   "source": [
    "### 102"
   ]
  },
  {
   "cell_type": "markdown",
   "id": "be039ce7",
   "metadata": {
    "id": "fPllOY-Y6j30",
    "papermill": {
     "duration": 0.20669,
     "end_time": "2023-01-18T12:14:48.036533",
     "exception": false,
     "start_time": "2023-01-18T12:14:47.829843",
     "status": "completed"
    },
    "tags": []
   },
   "source": [
    "Теперь мы можем оценить качество нашего метода. Запустите следующие два блока кода для получения результата. Обратите внимание, что вычисление расстояния между векторами занимает некоторое время (примерно 10 минут). Можете взять для validation 1000 примеров."
   ]
  },
  {
   "cell_type": "code",
   "execution_count": 38,
   "id": "2f2305ba",
   "metadata": {
    "execution": {
     "iopub.execute_input": "2023-01-18T12:14:48.464791Z",
     "iopub.status.busy": "2023-01-18T12:14:48.463964Z",
     "iopub.status.idle": "2023-01-18T12:14:48.726960Z",
     "shell.execute_reply": "2023-01-18T12:14:48.725591Z"
    },
    "id": "Z3q9sxddz-yU",
    "papermill": {
     "duration": 0.478844,
     "end_time": "2023-01-18T12:14:48.729962",
     "exception": false,
     "start_time": "2023-01-18T12:14:48.251118",
     "status": "completed"
    },
    "tags": []
   },
   "outputs": [],
   "source": [
    "from tqdm.notebook import tqdm"
   ]
  },
  {
   "cell_type": "code",
   "execution_count": 39,
   "id": "57c1e2a1",
   "metadata": {
    "execution": {
     "iopub.execute_input": "2023-01-18T12:14:49.156652Z",
     "iopub.status.busy": "2023-01-18T12:14:49.156177Z",
     "iopub.status.idle": "2023-01-18T12:17:22.726464Z",
     "shell.execute_reply": "2023-01-18T12:17:22.725217Z"
    },
    "id": "nu7K4mis6j32",
    "papermill": {
     "duration": 153.788098,
     "end_time": "2023-01-18T12:17:22.729451",
     "exception": false,
     "start_time": "2023-01-18T12:14:48.941353",
     "status": "completed"
    },
    "tags": []
   },
   "outputs": [
    {
     "data": {
      "application/vnd.jupyter.widget-view+json": {
       "model_id": "afd7296d6ea74362848ba73498a7e742",
       "version_major": 2,
       "version_minor": 0
      },
      "text/plain": [
       "  0%|          | 0/3760 [00:00<?, ?it/s]"
      ]
     },
     "metadata": {},
     "output_type": "display_data"
    },
    {
     "name": "stderr",
     "output_type": "stream",
     "text": [
      "/opt/conda/lib/python3.7/site-packages/ipykernel_launcher.py:2: RuntimeWarning: invalid value encountered in double_scalars\n",
      "  \n"
     ]
    }
   ],
   "source": [
    "wv_ranking = []\n",
    "max_validation_examples = 1500\n",
    "for i, line in enumerate(tqdm(validation_data)):\n",
    "    if i == max_validation_examples:\n",
    "        break\n",
    "    q, *ex = line\n",
    "    ranks = rank_candidates(q, ex, wv_embeddings, tk)\n",
    "    wv_ranking.append([r[0] for r in ranks].index(0) + 1)"
   ]
  },
  {
   "cell_type": "code",
   "execution_count": 40,
   "id": "f1d5497f",
   "metadata": {
    "execution": {
     "iopub.execute_input": "2023-01-18T12:17:23.195963Z",
     "iopub.status.busy": "2023-01-18T12:17:23.195558Z",
     "iopub.status.idle": "2023-01-18T12:17:23.261414Z",
     "shell.execute_reply": "2023-01-18T12:17:23.259910Z"
    },
    "id": "gDtS520v6j35",
    "papermill": {
     "duration": 0.305197,
     "end_time": "2023-01-18T12:17:23.264211",
     "exception": false,
     "start_time": "2023-01-18T12:17:22.959014",
     "status": "completed"
    },
    "scrolled": true,
    "tags": []
   },
   "outputs": [
    {
     "data": {
      "application/vnd.jupyter.widget-view+json": {
       "model_id": "8cd9f538a63e4cf8b2e491079dcdf92c",
       "version_major": 2,
       "version_minor": 0
      },
      "text/plain": [
       "  0%|          | 0/6 [00:00<?, ?it/s]"
      ]
     },
     "metadata": {},
     "output_type": "display_data"
    },
    {
     "name": "stdout",
     "output_type": "stream",
     "text": [
      "DCG@   1: 0.460 | Hits@   1: 0.460\n",
      "DCG@   5: 0.541 | Hits@   5: 0.615\n",
      "DCG@  10: 0.571 | Hits@  10: 0.707\n",
      "DCG@ 100: 0.633 | Hits@ 100: 0.998\n",
      "DCG@ 500: 0.633 | Hits@ 500: 1.000\n",
      "DCG@1000: 0.633 | Hits@1000: 1.000\n"
     ]
    }
   ],
   "source": [
    "for k in tqdm([1, 5, 10, 100, 500, 1000]):\n",
    "    print(\"DCG@%4d: %.3f | Hits@%4d: %.3f\" % (k, dcg_score(wv_ranking, k), k, hits_count(wv_ranking, k)))"
   ]
  },
  {
   "cell_type": "markdown",
   "id": "0f9e2816",
   "metadata": {
    "id": "LL6_Rjg3InL8",
    "papermill": {
     "duration": 0.211125,
     "end_time": "2023-01-18T12:17:23.689563",
     "exception": false,
     "start_time": "2023-01-18T12:17:23.478438",
     "status": "completed"
    },
    "tags": []
   },
   "source": [
    "### Эмбеддинги, обученные на корпусе похожих вопросов"
   ]
  },
  {
   "cell_type": "code",
   "execution_count": 41,
   "id": "18b280ce",
   "metadata": {
    "execution": {
     "iopub.execute_input": "2023-01-18T12:17:24.127703Z",
     "iopub.status.busy": "2023-01-18T12:17:24.127199Z",
     "iopub.status.idle": "2023-01-18T12:17:28.559296Z",
     "shell.execute_reply": "2023-01-18T12:17:28.558089Z"
    },
    "id": "iNvbpR5gJIPz",
    "papermill": {
     "duration": 4.659914,
     "end_time": "2023-01-18T12:17:28.562383",
     "exception": false,
     "start_time": "2023-01-18T12:17:23.902469",
     "status": "completed"
    },
    "tags": []
   },
   "outputs": [],
   "source": [
    "train_data = read_corpus('/kaggle/input/nlp-learning/data/train.tsv')"
   ]
  },
  {
   "cell_type": "markdown",
   "id": "5eaedeba",
   "metadata": {
    "id": "Nr281ZyEJfjT",
    "papermill": {
     "duration": 0.283467,
     "end_time": "2023-01-18T12:17:29.058551",
     "exception": false,
     "start_time": "2023-01-18T12:17:28.775084",
     "status": "completed"
    },
    "tags": []
   },
   "source": [
    "Улучшите качество модели.<br>Склеим вопросы в пары и обучим на них модель Word2Vec из gensim. Выберите размер window. Объясните свой выбор."
   ]
  },
  {
   "cell_type": "code",
   "execution_count": 42,
   "id": "070733d4",
   "metadata": {
    "execution": {
     "iopub.execute_input": "2023-01-18T12:17:29.487875Z",
     "iopub.status.busy": "2023-01-18T12:17:29.486992Z",
     "iopub.status.idle": "2023-01-18T12:21:01.830189Z",
     "shell.execute_reply": "2023-01-18T12:21:01.828669Z"
    },
    "id": "f6Y46SSQMTL0",
    "papermill": {
     "duration": 212.561038,
     "end_time": "2023-01-18T12:21:01.833301",
     "exception": false,
     "start_time": "2023-01-18T12:17:29.272263",
     "status": "completed"
    },
    "tags": []
   },
   "outputs": [
    {
     "data": {
      "application/vnd.jupyter.widget-view+json": {
       "model_id": "b7464046130a4097b1a4d814e3fdb7bf",
       "version_major": 2,
       "version_minor": 0
      },
      "text/plain": [
       "  0%|          | 0/1000000 [00:00<?, ?it/s]"
      ]
     },
     "metadata": {},
     "output_type": "display_data"
    }
   ],
   "source": [
    "words = []\n",
    "for pair_sent in tqdm(train_data):\n",
    "    pair_sent = \" \".join(pair_sent)\n",
    "    words.append(word_tokenize(pair_sent))"
   ]
  },
  {
   "cell_type": "code",
   "execution_count": 43,
   "id": "52559146",
   "metadata": {
    "execution": {
     "iopub.execute_input": "2023-01-18T12:21:02.411380Z",
     "iopub.status.busy": "2023-01-18T12:21:02.409919Z",
     "iopub.status.idle": "2023-01-18T12:21:05.621847Z",
     "shell.execute_reply": "2023-01-18T12:21:05.620485Z"
    },
    "papermill": {
     "duration": 3.438408,
     "end_time": "2023-01-18T12:21:05.625222",
     "exception": false,
     "start_time": "2023-01-18T12:21:02.186814",
     "status": "completed"
    },
    "tags": []
   },
   "outputs": [],
   "source": [
    "all_words = []\n",
    "for i in range(0, len(words), 2):\n",
    "    all_words.append(words[i]+words[i+1])"
   ]
  },
  {
   "cell_type": "code",
   "execution_count": 44,
   "id": "47c48f36",
   "metadata": {
    "execution": {
     "iopub.execute_input": "2023-01-18T12:21:06.057126Z",
     "iopub.status.busy": "2023-01-18T12:21:06.056646Z",
     "iopub.status.idle": "2023-01-18T12:23:41.222690Z",
     "shell.execute_reply": "2023-01-18T12:23:41.220917Z"
    },
    "id": "QuJzAM0cI-UH",
    "papermill": {
     "duration": 155.38504,
     "end_time": "2023-01-18T12:23:41.226129",
     "exception": false,
     "start_time": "2023-01-18T12:21:05.841089",
     "status": "completed"
    },
    "tags": []
   },
   "outputs": [],
   "source": [
    "from gensim.models import Word2Vec\n",
    "embeddings_trained = Word2Vec(all_words, # data for model to train on\n",
    "                 vector_size=200,                 # embedding vector size\n",
    "                 min_count=3,             # consider words that occured at least 5 times\n",
    "                 window=3).wv"
   ]
  },
  {
   "cell_type": "code",
   "execution_count": 45,
   "id": "ec5f66a6",
   "metadata": {
    "execution": {
     "iopub.execute_input": "2023-01-18T12:23:41.669785Z",
     "iopub.status.busy": "2023-01-18T12:23:41.669248Z",
     "iopub.status.idle": "2023-01-18T12:27:05.430429Z",
     "shell.execute_reply": "2023-01-18T12:27:05.428868Z"
    },
    "id": "OQonbm4nMenD",
    "papermill": {
     "duration": 203.985815,
     "end_time": "2023-01-18T12:27:05.433504",
     "exception": false,
     "start_time": "2023-01-18T12:23:41.447689",
     "status": "completed"
    },
    "tags": []
   },
   "outputs": [
    {
     "data": {
      "application/vnd.jupyter.widget-view+json": {
       "model_id": "3b52bffc5be94502a1adf65aaebf5e5f",
       "version_major": 2,
       "version_minor": 0
      },
      "text/plain": [
       "  0%|          | 0/3760 [00:00<?, ?it/s]"
      ]
     },
     "metadata": {},
     "output_type": "display_data"
    },
    {
     "name": "stderr",
     "output_type": "stream",
     "text": [
      "/opt/conda/lib/python3.7/site-packages/ipykernel_launcher.py:2: RuntimeWarning: invalid value encountered in double_scalars\n",
      "  \n"
     ]
    }
   ],
   "source": [
    "wv_ranking_two = []\n",
    "max_validation_examples = 1500\n",
    "for i, line in enumerate(tqdm(validation_data)):\n",
    "    if i == max_validation_examples:\n",
    "        break\n",
    "    q, *ex = line\n",
    "    ranks = rank_candidates(q, ex, embeddings_trained, tk)\n",
    "    wv_ranking_two.append([r[0] for r in ranks].index(0) + 1)"
   ]
  },
  {
   "cell_type": "code",
   "execution_count": 46,
   "id": "e9aa2b7e",
   "metadata": {
    "execution": {
     "iopub.execute_input": "2023-01-18T12:27:05.895859Z",
     "iopub.status.busy": "2023-01-18T12:27:05.895475Z",
     "iopub.status.idle": "2023-01-18T12:27:05.955286Z",
     "shell.execute_reply": "2023-01-18T12:27:05.954197Z"
    },
    "id": "3kahBUPGMgGR",
    "papermill": {
     "duration": 0.287266,
     "end_time": "2023-01-18T12:27:05.961479",
     "exception": false,
     "start_time": "2023-01-18T12:27:05.674213",
     "status": "completed"
    },
    "tags": []
   },
   "outputs": [
    {
     "data": {
      "application/vnd.jupyter.widget-view+json": {
       "model_id": "77d7310d458243559254192b6d0390fb",
       "version_major": 2,
       "version_minor": 0
      },
      "text/plain": [
       "  0%|          | 0/6 [00:00<?, ?it/s]"
      ]
     },
     "metadata": {},
     "output_type": "display_data"
    },
    {
     "name": "stdout",
     "output_type": "stream",
     "text": [
      "DCG@   1: 0.050 | Hits@   1: 0.050\n",
      "DCG@   5: 0.054 | Hits@   5: 0.058\n",
      "DCG@  10: 0.057 | Hits@  10: 0.067\n",
      "DCG@ 100: 0.076 | Hits@ 100: 0.172\n",
      "DCG@ 500: 0.129 | Hits@ 500: 0.598\n",
      "DCG@1000: 0.171 | Hits@1000: 1.000\n"
     ]
    }
   ],
   "source": [
    "for k in tqdm([1, 5, 10, 100, 500, 1000]):\n",
    "    print(\"DCG@%4d: %.3f | Hits@%4d: %.3f\" % (k, dcg_score(wv_ranking_two, k), k, hits_count(wv_ranking_two, k)))"
   ]
  },
  {
   "cell_type": "markdown",
   "id": "945ed07a",
   "metadata": {
    "id": "tY8PxB0j-ThG",
    "papermill": {
     "duration": 0.212493,
     "end_time": "2023-01-18T12:27:06.395104",
     "exception": false,
     "start_time": "2023-01-18T12:27:06.182611",
     "status": "completed"
    },
    "tags": []
   },
   "source": [
    "### Замечание:\n",
    "Решить эту задачу с помощью обучения полноценной нейронной сети будет вам предложено, как часть задания в одной из домашних работ по теме \"Диалоговые системы\"."
   ]
  },
  {
   "cell_type": "markdown",
   "id": "41a2cbca",
   "metadata": {
    "id": "vymVj8IxO2PO",
    "papermill": {
     "duration": 0.215648,
     "end_time": "2023-01-18T12:27:06.824276",
     "exception": false,
     "start_time": "2023-01-18T12:27:06.608628",
     "status": "completed"
    },
    "tags": []
   },
   "source": [
    "Напишите свой вывод о полученных результатах.\n",
    "* Какой принцип токенизации даёт качество лучше и почему?\n",
    "* Помогает ли нормализация слов?\n",
    "* Какие эмбеддинги лучше справляются с задачей и почему?\n",
    "* Почему получилось плохое качество решения задачи?\n",
    "* Предложите свой подход к решению задачи.\n",
    "\n",
    "## Вывод:\n",
    "1. \n",
    "2.\n",
    "3. Претренированные эмбединги лучше справлсяются с задачей, чем собственно натренированный Word2vec."
   ]
  },
  {
   "cell_type": "markdown",
   "id": "6ab12d22",
   "metadata": {
    "papermill": {
     "duration": 0.29283,
     "end_time": "2023-01-18T12:27:07.332383",
     "exception": false,
     "start_time": "2023-01-18T12:27:07.039553",
     "status": "completed"
    },
    "tags": []
   },
   "source": [
    "### нужно потренироваться  с токенайзерами слов и предложений"
   ]
  },
  {
   "cell_type": "code",
   "execution_count": null,
   "id": "1036f353",
   "metadata": {
    "papermill": {
     "duration": 0.218468,
     "end_time": "2023-01-18T12:27:07.766551",
     "exception": false,
     "start_time": "2023-01-18T12:27:07.548083",
     "status": "completed"
    },
    "tags": []
   },
   "outputs": [],
   "source": []
  }
 ],
 "metadata": {
  "kernelspec": {
   "display_name": "Python 3",
   "language": "python",
   "name": "python3"
  },
  "language_info": {
   "codemirror_mode": {
    "name": "ipython",
    "version": 3
   },
   "file_extension": ".py",
   "mimetype": "text/x-python",
   "name": "python",
   "nbconvert_exporter": "python",
   "pygments_lexer": "ipython3",
   "version": "3.7.12"
  },
  "papermill": {
   "default_parameters": {},
   "duration": 1842.253687,
   "end_time": "2023-01-18T12:27:10.813223",
   "environment_variables": {},
   "exception": null,
   "input_path": "__notebook__.ipynb",
   "output_path": "__notebook__.ipynb",
   "parameters": {},
   "start_time": "2023-01-18T11:56:28.559536",
   "version": "2.3.4"
  },
  "widgets": {
   "application/vnd.jupyter.widget-state+json": {
    "state": {
     "03097db5f10a4ea58fc6fe9b01ae9b2a": {
      "model_module": "@jupyter-widgets/base",
      "model_module_version": "1.2.0",
      "model_name": "LayoutModel",
      "state": {
       "_model_module": "@jupyter-widgets/base",
       "_model_module_version": "1.2.0",
       "_model_name": "LayoutModel",
       "_view_count": null,
       "_view_module": "@jupyter-widgets/base",
       "_view_module_version": "1.2.0",
       "_view_name": "LayoutView",
       "align_content": null,
       "align_items": null,
       "align_self": null,
       "border": null,
       "bottom": null,
       "display": null,
       "flex": null,
       "flex_flow": null,
       "grid_area": null,
       "grid_auto_columns": null,
       "grid_auto_flow": null,
       "grid_auto_rows": null,
       "grid_column": null,
       "grid_gap": null,
       "grid_row": null,
       "grid_template_areas": null,
       "grid_template_columns": null,
       "grid_template_rows": null,
       "height": null,
       "justify_content": null,
       "justify_items": null,
       "left": null,
       "margin": null,
       "max_height": null,
       "max_width": null,
       "min_height": null,
       "min_width": null,
       "object_fit": null,
       "object_position": null,
       "order": null,
       "overflow": null,
       "overflow_x": null,
       "overflow_y": null,
       "padding": null,
       "right": null,
       "top": null,
       "visibility": null,
       "width": null
      }
     },
     "05c08dfe11d74bc5aa0e86f526ba0831": {
      "model_module": "@jupyter-widgets/controls",
      "model_module_version": "1.5.0",
      "model_name": "DescriptionStyleModel",
      "state": {
       "_model_module": "@jupyter-widgets/controls",
       "_model_module_version": "1.5.0",
       "_model_name": "DescriptionStyleModel",
       "_view_count": null,
       "_view_module": "@jupyter-widgets/base",
       "_view_module_version": "1.2.0",
       "_view_name": "StyleView",
       "description_width": ""
      }
     },
     "0c7ee49614ce429ebb079353918b621c": {
      "model_module": "@jupyter-widgets/controls",
      "model_module_version": "1.5.0",
      "model_name": "HTMLModel",
      "state": {
       "_dom_classes": [],
       "_model_module": "@jupyter-widgets/controls",
       "_model_module_version": "1.5.0",
       "_model_name": "HTMLModel",
       "_view_count": null,
       "_view_module": "@jupyter-widgets/controls",
       "_view_module_version": "1.5.0",
       "_view_name": "HTMLView",
       "description": "",
       "description_tooltip": null,
       "layout": "IPY_MODEL_d317e76354a7439281f8772dda23c64f",
       "placeholder": "​",
       "style": "IPY_MODEL_81563f5fa7ce4947bf254eeb8de94d94",
       "value": "100%"
      }
     },
     "15e0b89d02114149844044d058d61a96": {
      "model_module": "@jupyter-widgets/controls",
      "model_module_version": "1.5.0",
      "model_name": "HTMLModel",
      "state": {
       "_dom_classes": [],
       "_model_module": "@jupyter-widgets/controls",
       "_model_module_version": "1.5.0",
       "_model_name": "HTMLModel",
       "_view_count": null,
       "_view_module": "@jupyter-widgets/controls",
       "_view_module_version": "1.5.0",
       "_view_name": "HTMLView",
       "description": "",
       "description_tooltip": null,
       "layout": "IPY_MODEL_af591288bd2647c7939cf097934dedc0",
       "placeholder": "​",
       "style": "IPY_MODEL_397b082750a3405d85bc08412ec4f8eb",
       "value": " 1000000/1000000 [03:32&lt;00:00, 4381.82it/s]"
      }
     },
     "15ede10dbea44ce49884cb6eb600300a": {
      "model_module": "@jupyter-widgets/base",
      "model_module_version": "1.2.0",
      "model_name": "LayoutModel",
      "state": {
       "_model_module": "@jupyter-widgets/base",
       "_model_module_version": "1.2.0",
       "_model_name": "LayoutModel",
       "_view_count": null,
       "_view_module": "@jupyter-widgets/base",
       "_view_module_version": "1.2.0",
       "_view_name": "LayoutView",
       "align_content": null,
       "align_items": null,
       "align_self": null,
       "border": null,
       "bottom": null,
       "display": null,
       "flex": null,
       "flex_flow": null,
       "grid_area": null,
       "grid_auto_columns": null,
       "grid_auto_flow": null,
       "grid_auto_rows": null,
       "grid_column": null,
       "grid_gap": null,
       "grid_row": null,
       "grid_template_areas": null,
       "grid_template_columns": null,
       "grid_template_rows": null,
       "height": null,
       "justify_content": null,
       "justify_items": null,
       "left": null,
       "margin": null,
       "max_height": null,
       "max_width": null,
       "min_height": null,
       "min_width": null,
       "object_fit": null,
       "object_position": null,
       "order": null,
       "overflow": null,
       "overflow_x": null,
       "overflow_y": null,
       "padding": null,
       "right": null,
       "top": null,
       "visibility": null,
       "width": null
      }
     },
     "20915d7db023477c911aa1d36dd041f1": {
      "model_module": "@jupyter-widgets/controls",
      "model_module_version": "1.5.0",
      "model_name": "FloatProgressModel",
      "state": {
       "_dom_classes": [],
       "_model_module": "@jupyter-widgets/controls",
       "_model_module_version": "1.5.0",
       "_model_name": "FloatProgressModel",
       "_view_count": null,
       "_view_module": "@jupyter-widgets/controls",
       "_view_module_version": "1.5.0",
       "_view_name": "ProgressView",
       "bar_style": "success",
       "description": "",
       "description_tooltip": null,
       "layout": "IPY_MODEL_7464706b86574b58bb814a264fe16d41",
       "max": 6.0,
       "min": 0.0,
       "orientation": "horizontal",
       "style": "IPY_MODEL_b6168cc8b24d455ba7e91bdd796e1573",
       "value": 6.0
      }
     },
     "213624c357a942d19ca41222bacfbd1c": {
      "model_module": "@jupyter-widgets/controls",
      "model_module_version": "1.5.0",
      "model_name": "HTMLModel",
      "state": {
       "_dom_classes": [],
       "_model_module": "@jupyter-widgets/controls",
       "_model_module_version": "1.5.0",
       "_model_name": "HTMLModel",
       "_view_count": null,
       "_view_module": "@jupyter-widgets/controls",
       "_view_module_version": "1.5.0",
       "_view_name": "HTMLView",
       "description": "",
       "description_tooltip": null,
       "layout": "IPY_MODEL_41beb42a1c1b49a092e3951b5282949a",
       "placeholder": "​",
       "style": "IPY_MODEL_7d13af8af1114105b8fd861de9ee6071",
       "value": "100%"
      }
     },
     "28a882a5b20b43b9ac5b9a06462dec45": {
      "model_module": "@jupyter-widgets/base",
      "model_module_version": "1.2.0",
      "model_name": "LayoutModel",
      "state": {
       "_model_module": "@jupyter-widgets/base",
       "_model_module_version": "1.2.0",
       "_model_name": "LayoutModel",
       "_view_count": null,
       "_view_module": "@jupyter-widgets/base",
       "_view_module_version": "1.2.0",
       "_view_name": "LayoutView",
       "align_content": null,
       "align_items": null,
       "align_self": null,
       "border": null,
       "bottom": null,
       "display": null,
       "flex": null,
       "flex_flow": null,
       "grid_area": null,
       "grid_auto_columns": null,
       "grid_auto_flow": null,
       "grid_auto_rows": null,
       "grid_column": null,
       "grid_gap": null,
       "grid_row": null,
       "grid_template_areas": null,
       "grid_template_columns": null,
       "grid_template_rows": null,
       "height": null,
       "justify_content": null,
       "justify_items": null,
       "left": null,
       "margin": null,
       "max_height": null,
       "max_width": null,
       "min_height": null,
       "min_width": null,
       "object_fit": null,
       "object_position": null,
       "order": null,
       "overflow": null,
       "overflow_x": null,
       "overflow_y": null,
       "padding": null,
       "right": null,
       "top": null,
       "visibility": null,
       "width": null
      }
     },
     "391fb4eed9154137aa2fcab357e24f9a": {
      "model_module": "@jupyter-widgets/controls",
      "model_module_version": "1.5.0",
      "model_name": "ProgressStyleModel",
      "state": {
       "_model_module": "@jupyter-widgets/controls",
       "_model_module_version": "1.5.0",
       "_model_name": "ProgressStyleModel",
       "_view_count": null,
       "_view_module": "@jupyter-widgets/base",
       "_view_module_version": "1.2.0",
       "_view_name": "StyleView",
       "bar_color": null,
       "description_width": ""
      }
     },
     "397b082750a3405d85bc08412ec4f8eb": {
      "model_module": "@jupyter-widgets/controls",
      "model_module_version": "1.5.0",
      "model_name": "DescriptionStyleModel",
      "state": {
       "_model_module": "@jupyter-widgets/controls",
       "_model_module_version": "1.5.0",
       "_model_name": "DescriptionStyleModel",
       "_view_count": null,
       "_view_module": "@jupyter-widgets/base",
       "_view_module_version": "1.2.0",
       "_view_name": "StyleView",
       "description_width": ""
      }
     },
     "3b52bffc5be94502a1adf65aaebf5e5f": {
      "model_module": "@jupyter-widgets/controls",
      "model_module_version": "1.5.0",
      "model_name": "HBoxModel",
      "state": {
       "_dom_classes": [],
       "_model_module": "@jupyter-widgets/controls",
       "_model_module_version": "1.5.0",
       "_model_name": "HBoxModel",
       "_view_count": null,
       "_view_module": "@jupyter-widgets/controls",
       "_view_module_version": "1.5.0",
       "_view_name": "HBoxView",
       "box_style": "",
       "children": [
        "IPY_MODEL_7b765fa6d73e40b3b8525b1887cab4b2",
        "IPY_MODEL_fc9c4fa833034f1886d52df131986348",
        "IPY_MODEL_92caddb577634e449bddc6129798ecf5"
       ],
       "layout": "IPY_MODEL_838300308e8c4683a8c5668a31dc51bf"
      }
     },
     "3ec3f1cec72748c299a089852ca3bddf": {
      "model_module": "@jupyter-widgets/controls",
      "model_module_version": "1.5.0",
      "model_name": "HTMLModel",
      "state": {
       "_dom_classes": [],
       "_model_module": "@jupyter-widgets/controls",
       "_model_module_version": "1.5.0",
       "_model_name": "HTMLModel",
       "_view_count": null,
       "_view_module": "@jupyter-widgets/controls",
       "_view_module_version": "1.5.0",
       "_view_name": "HTMLView",
       "description": "",
       "description_tooltip": null,
       "layout": "IPY_MODEL_d56a02c99f6f407981eff6d85b854ab5",
       "placeholder": "​",
       "style": "IPY_MODEL_6d0c9e70956b4fbe84adc1a59b300563",
       "value": " 40%"
      }
     },
     "41914b24069640559d3f7829d93ac842": {
      "model_module": "@jupyter-widgets/controls",
      "model_module_version": "1.5.0",
      "model_name": "ProgressStyleModel",
      "state": {
       "_model_module": "@jupyter-widgets/controls",
       "_model_module_version": "1.5.0",
       "_model_name": "ProgressStyleModel",
       "_view_count": null,
       "_view_module": "@jupyter-widgets/base",
       "_view_module_version": "1.2.0",
       "_view_name": "StyleView",
       "bar_color": null,
       "description_width": ""
      }
     },
     "41beb42a1c1b49a092e3951b5282949a": {
      "model_module": "@jupyter-widgets/base",
      "model_module_version": "1.2.0",
      "model_name": "LayoutModel",
      "state": {
       "_model_module": "@jupyter-widgets/base",
       "_model_module_version": "1.2.0",
       "_model_name": "LayoutModel",
       "_view_count": null,
       "_view_module": "@jupyter-widgets/base",
       "_view_module_version": "1.2.0",
       "_view_name": "LayoutView",
       "align_content": null,
       "align_items": null,
       "align_self": null,
       "border": null,
       "bottom": null,
       "display": null,
       "flex": null,
       "flex_flow": null,
       "grid_area": null,
       "grid_auto_columns": null,
       "grid_auto_flow": null,
       "grid_auto_rows": null,
       "grid_column": null,
       "grid_gap": null,
       "grid_row": null,
       "grid_template_areas": null,
       "grid_template_columns": null,
       "grid_template_rows": null,
       "height": null,
       "justify_content": null,
       "justify_items": null,
       "left": null,
       "margin": null,
       "max_height": null,
       "max_width": null,
       "min_height": null,
       "min_width": null,
       "object_fit": null,
       "object_position": null,
       "order": null,
       "overflow": null,
       "overflow_x": null,
       "overflow_y": null,
       "padding": null,
       "right": null,
       "top": null,
       "visibility": null,
       "width": null
      }
     },
     "54b5da3ff6164dc7aa983a30260876e7": {
      "model_module": "@jupyter-widgets/base",
      "model_module_version": "1.2.0",
      "model_name": "LayoutModel",
      "state": {
       "_model_module": "@jupyter-widgets/base",
       "_model_module_version": "1.2.0",
       "_model_name": "LayoutModel",
       "_view_count": null,
       "_view_module": "@jupyter-widgets/base",
       "_view_module_version": "1.2.0",
       "_view_name": "LayoutView",
       "align_content": null,
       "align_items": null,
       "align_self": null,
       "border": null,
       "bottom": null,
       "display": null,
       "flex": null,
       "flex_flow": null,
       "grid_area": null,
       "grid_auto_columns": null,
       "grid_auto_flow": null,
       "grid_auto_rows": null,
       "grid_column": null,
       "grid_gap": null,
       "grid_row": null,
       "grid_template_areas": null,
       "grid_template_columns": null,
       "grid_template_rows": null,
       "height": null,
       "justify_content": null,
       "justify_items": null,
       "left": null,
       "margin": null,
       "max_height": null,
       "max_width": null,
       "min_height": null,
       "min_width": null,
       "object_fit": null,
       "object_position": null,
       "order": null,
       "overflow": null,
       "overflow_x": null,
       "overflow_y": null,
       "padding": null,
       "right": null,
       "top": null,
       "visibility": null,
       "width": null
      }
     },
     "6a986493d908462083a69d6e1eafbb04": {
      "model_module": "@jupyter-widgets/controls",
      "model_module_version": "1.5.0",
      "model_name": "HTMLModel",
      "state": {
       "_dom_classes": [],
       "_model_module": "@jupyter-widgets/controls",
       "_model_module_version": "1.5.0",
       "_model_name": "HTMLModel",
       "_view_count": null,
       "_view_module": "@jupyter-widgets/controls",
       "_view_module_version": "1.5.0",
       "_view_name": "HTMLView",
       "description": "",
       "description_tooltip": null,
       "layout": "IPY_MODEL_b087b1f3862b4c96a80cdd9da68fd980",
       "placeholder": "​",
       "style": "IPY_MODEL_90326096256441198a6b895c1863bb75",
       "value": " 6/6 [00:00&lt;00:00, 109.79it/s]"
      }
     },
     "6d0c9e70956b4fbe84adc1a59b300563": {
      "model_module": "@jupyter-widgets/controls",
      "model_module_version": "1.5.0",
      "model_name": "DescriptionStyleModel",
      "state": {
       "_model_module": "@jupyter-widgets/controls",
       "_model_module_version": "1.5.0",
       "_model_name": "DescriptionStyleModel",
       "_view_count": null,
       "_view_module": "@jupyter-widgets/base",
       "_view_module_version": "1.2.0",
       "_view_name": "StyleView",
       "description_width": ""
      }
     },
     "6d87951c8f7648b2ab330f13c6c808af": {
      "model_module": "@jupyter-widgets/base",
      "model_module_version": "1.2.0",
      "model_name": "LayoutModel",
      "state": {
       "_model_module": "@jupyter-widgets/base",
       "_model_module_version": "1.2.0",
       "_model_name": "LayoutModel",
       "_view_count": null,
       "_view_module": "@jupyter-widgets/base",
       "_view_module_version": "1.2.0",
       "_view_name": "LayoutView",
       "align_content": null,
       "align_items": null,
       "align_self": null,
       "border": null,
       "bottom": null,
       "display": null,
       "flex": null,
       "flex_flow": null,
       "grid_area": null,
       "grid_auto_columns": null,
       "grid_auto_flow": null,
       "grid_auto_rows": null,
       "grid_column": null,
       "grid_gap": null,
       "grid_row": null,
       "grid_template_areas": null,
       "grid_template_columns": null,
       "grid_template_rows": null,
       "height": null,
       "justify_content": null,
       "justify_items": null,
       "left": null,
       "margin": null,
       "max_height": null,
       "max_width": null,
       "min_height": null,
       "min_width": null,
       "object_fit": null,
       "object_position": null,
       "order": null,
       "overflow": null,
       "overflow_x": null,
       "overflow_y": null,
       "padding": null,
       "right": null,
       "top": null,
       "visibility": null,
       "width": null
      }
     },
     "6f84ad67638e40fd929665e75d3d1aa3": {
      "model_module": "@jupyter-widgets/controls",
      "model_module_version": "1.5.0",
      "model_name": "ProgressStyleModel",
      "state": {
       "_model_module": "@jupyter-widgets/controls",
       "_model_module_version": "1.5.0",
       "_model_name": "ProgressStyleModel",
       "_view_count": null,
       "_view_module": "@jupyter-widgets/base",
       "_view_module_version": "1.2.0",
       "_view_name": "StyleView",
       "bar_color": null,
       "description_width": ""
      }
     },
     "7464706b86574b58bb814a264fe16d41": {
      "model_module": "@jupyter-widgets/base",
      "model_module_version": "1.2.0",
      "model_name": "LayoutModel",
      "state": {
       "_model_module": "@jupyter-widgets/base",
       "_model_module_version": "1.2.0",
       "_model_name": "LayoutModel",
       "_view_count": null,
       "_view_module": "@jupyter-widgets/base",
       "_view_module_version": "1.2.0",
       "_view_name": "LayoutView",
       "align_content": null,
       "align_items": null,
       "align_self": null,
       "border": null,
       "bottom": null,
       "display": null,
       "flex": null,
       "flex_flow": null,
       "grid_area": null,
       "grid_auto_columns": null,
       "grid_auto_flow": null,
       "grid_auto_rows": null,
       "grid_column": null,
       "grid_gap": null,
       "grid_row": null,
       "grid_template_areas": null,
       "grid_template_columns": null,
       "grid_template_rows": null,
       "height": null,
       "justify_content": null,
       "justify_items": null,
       "left": null,
       "margin": null,
       "max_height": null,
       "max_width": null,
       "min_height": null,
       "min_width": null,
       "object_fit": null,
       "object_position": null,
       "order": null,
       "overflow": null,
       "overflow_x": null,
       "overflow_y": null,
       "padding": null,
       "right": null,
       "top": null,
       "visibility": null,
       "width": null
      }
     },
     "77d7310d458243559254192b6d0390fb": {
      "model_module": "@jupyter-widgets/controls",
      "model_module_version": "1.5.0",
      "model_name": "HBoxModel",
      "state": {
       "_dom_classes": [],
       "_model_module": "@jupyter-widgets/controls",
       "_model_module_version": "1.5.0",
       "_model_name": "HBoxModel",
       "_view_count": null,
       "_view_module": "@jupyter-widgets/controls",
       "_view_module_version": "1.5.0",
       "_view_name": "HBoxView",
       "box_style": "",
       "children": [
        "IPY_MODEL_0c7ee49614ce429ebb079353918b621c",
        "IPY_MODEL_20915d7db023477c911aa1d36dd041f1",
        "IPY_MODEL_9b88b68c218b485a8fda2e5082be258f"
       ],
       "layout": "IPY_MODEL_6d87951c8f7648b2ab330f13c6c808af"
      }
     },
     "796faa64ee314711b8ef369b4910cb47": {
      "model_module": "@jupyter-widgets/controls",
      "model_module_version": "1.5.0",
      "model_name": "ProgressStyleModel",
      "state": {
       "_model_module": "@jupyter-widgets/controls",
       "_model_module_version": "1.5.0",
       "_model_name": "ProgressStyleModel",
       "_view_count": null,
       "_view_module": "@jupyter-widgets/base",
       "_view_module_version": "1.2.0",
       "_view_name": "StyleView",
       "bar_color": null,
       "description_width": ""
      }
     },
     "7b765fa6d73e40b3b8525b1887cab4b2": {
      "model_module": "@jupyter-widgets/controls",
      "model_module_version": "1.5.0",
      "model_name": "HTMLModel",
      "state": {
       "_dom_classes": [],
       "_model_module": "@jupyter-widgets/controls",
       "_model_module_version": "1.5.0",
       "_model_name": "HTMLModel",
       "_view_count": null,
       "_view_module": "@jupyter-widgets/controls",
       "_view_module_version": "1.5.0",
       "_view_name": "HTMLView",
       "description": "",
       "description_tooltip": null,
       "layout": "IPY_MODEL_a931e6bfa082402383cac3b6c78240d0",
       "placeholder": "​",
       "style": "IPY_MODEL_f2dcc9024691498a8a99a785f97fbb78",
       "value": " 40%"
      }
     },
     "7c3f6cdc30b449dc9909d09b4fd5a222": {
      "model_module": "@jupyter-widgets/controls",
      "model_module_version": "1.5.0",
      "model_name": "DescriptionStyleModel",
      "state": {
       "_model_module": "@jupyter-widgets/controls",
       "_model_module_version": "1.5.0",
       "_model_name": "DescriptionStyleModel",
       "_view_count": null,
       "_view_module": "@jupyter-widgets/base",
       "_view_module_version": "1.2.0",
       "_view_name": "StyleView",
       "description_width": ""
      }
     },
     "7d13af8af1114105b8fd861de9ee6071": {
      "model_module": "@jupyter-widgets/controls",
      "model_module_version": "1.5.0",
      "model_name": "DescriptionStyleModel",
      "state": {
       "_model_module": "@jupyter-widgets/controls",
       "_model_module_version": "1.5.0",
       "_model_name": "DescriptionStyleModel",
       "_view_count": null,
       "_view_module": "@jupyter-widgets/base",
       "_view_module_version": "1.2.0",
       "_view_name": "StyleView",
       "description_width": ""
      }
     },
     "81563f5fa7ce4947bf254eeb8de94d94": {
      "model_module": "@jupyter-widgets/controls",
      "model_module_version": "1.5.0",
      "model_name": "DescriptionStyleModel",
      "state": {
       "_model_module": "@jupyter-widgets/controls",
       "_model_module_version": "1.5.0",
       "_model_name": "DescriptionStyleModel",
       "_view_count": null,
       "_view_module": "@jupyter-widgets/base",
       "_view_module_version": "1.2.0",
       "_view_name": "StyleView",
       "description_width": ""
      }
     },
     "838300308e8c4683a8c5668a31dc51bf": {
      "model_module": "@jupyter-widgets/base",
      "model_module_version": "1.2.0",
      "model_name": "LayoutModel",
      "state": {
       "_model_module": "@jupyter-widgets/base",
       "_model_module_version": "1.2.0",
       "_model_name": "LayoutModel",
       "_view_count": null,
       "_view_module": "@jupyter-widgets/base",
       "_view_module_version": "1.2.0",
       "_view_name": "LayoutView",
       "align_content": null,
       "align_items": null,
       "align_self": null,
       "border": null,
       "bottom": null,
       "display": null,
       "flex": null,
       "flex_flow": null,
       "grid_area": null,
       "grid_auto_columns": null,
       "grid_auto_flow": null,
       "grid_auto_rows": null,
       "grid_column": null,
       "grid_gap": null,
       "grid_row": null,
       "grid_template_areas": null,
       "grid_template_columns": null,
       "grid_template_rows": null,
       "height": null,
       "justify_content": null,
       "justify_items": null,
       "left": null,
       "margin": null,
       "max_height": null,
       "max_width": null,
       "min_height": null,
       "min_width": null,
       "object_fit": null,
       "object_position": null,
       "order": null,
       "overflow": null,
       "overflow_x": null,
       "overflow_y": null,
       "padding": null,
       "right": null,
       "top": null,
       "visibility": null,
       "width": null
      }
     },
     "87bee079a8bf49a595c1c72f1159ffc8": {
      "model_module": "@jupyter-widgets/controls",
      "model_module_version": "1.5.0",
      "model_name": "HTMLModel",
      "state": {
       "_dom_classes": [],
       "_model_module": "@jupyter-widgets/controls",
       "_model_module_version": "1.5.0",
       "_model_name": "HTMLModel",
       "_view_count": null,
       "_view_module": "@jupyter-widgets/controls",
       "_view_module_version": "1.5.0",
       "_view_name": "HTMLView",
       "description": "",
       "description_tooltip": null,
       "layout": "IPY_MODEL_15ede10dbea44ce49884cb6eb600300a",
       "placeholder": "​",
       "style": "IPY_MODEL_7c3f6cdc30b449dc9909d09b4fd5a222",
       "value": " 1500/3760 [02:33&lt;04:14,  8.89it/s]"
      }
     },
     "88594847700f4fe2a396856a19ff049e": {
      "model_module": "@jupyter-widgets/base",
      "model_module_version": "1.2.0",
      "model_name": "LayoutModel",
      "state": {
       "_model_module": "@jupyter-widgets/base",
       "_model_module_version": "1.2.0",
       "_model_name": "LayoutModel",
       "_view_count": null,
       "_view_module": "@jupyter-widgets/base",
       "_view_module_version": "1.2.0",
       "_view_name": "LayoutView",
       "align_content": null,
       "align_items": null,
       "align_self": null,
       "border": null,
       "bottom": null,
       "display": null,
       "flex": null,
       "flex_flow": null,
       "grid_area": null,
       "grid_auto_columns": null,
       "grid_auto_flow": null,
       "grid_auto_rows": null,
       "grid_column": null,
       "grid_gap": null,
       "grid_row": null,
       "grid_template_areas": null,
       "grid_template_columns": null,
       "grid_template_rows": null,
       "height": null,
       "justify_content": null,
       "justify_items": null,
       "left": null,
       "margin": null,
       "max_height": null,
       "max_width": null,
       "min_height": null,
       "min_width": null,
       "object_fit": null,
       "object_position": null,
       "order": null,
       "overflow": null,
       "overflow_x": null,
       "overflow_y": null,
       "padding": null,
       "right": null,
       "top": null,
       "visibility": null,
       "width": null
      }
     },
     "8cd9f538a63e4cf8b2e491079dcdf92c": {
      "model_module": "@jupyter-widgets/controls",
      "model_module_version": "1.5.0",
      "model_name": "HBoxModel",
      "state": {
       "_dom_classes": [],
       "_model_module": "@jupyter-widgets/controls",
       "_model_module_version": "1.5.0",
       "_model_name": "HBoxModel",
       "_view_count": null,
       "_view_module": "@jupyter-widgets/controls",
       "_view_module_version": "1.5.0",
       "_view_name": "HBoxView",
       "box_style": "",
       "children": [
        "IPY_MODEL_213624c357a942d19ca41222bacfbd1c",
        "IPY_MODEL_b75befd7929540c2bee2bc14e7ffa8b6",
        "IPY_MODEL_6a986493d908462083a69d6e1eafbb04"
       ],
       "layout": "IPY_MODEL_28a882a5b20b43b9ac5b9a06462dec45"
      }
     },
     "90326096256441198a6b895c1863bb75": {
      "model_module": "@jupyter-widgets/controls",
      "model_module_version": "1.5.0",
      "model_name": "DescriptionStyleModel",
      "state": {
       "_model_module": "@jupyter-widgets/controls",
       "_model_module_version": "1.5.0",
       "_model_name": "DescriptionStyleModel",
       "_view_count": null,
       "_view_module": "@jupyter-widgets/base",
       "_view_module_version": "1.2.0",
       "_view_name": "StyleView",
       "description_width": ""
      }
     },
     "92caddb577634e449bddc6129798ecf5": {
      "model_module": "@jupyter-widgets/controls",
      "model_module_version": "1.5.0",
      "model_name": "HTMLModel",
      "state": {
       "_dom_classes": [],
       "_model_module": "@jupyter-widgets/controls",
       "_model_module_version": "1.5.0",
       "_model_name": "HTMLModel",
       "_view_count": null,
       "_view_module": "@jupyter-widgets/controls",
       "_view_module_version": "1.5.0",
       "_view_name": "HTMLView",
       "description": "",
       "description_tooltip": null,
       "layout": "IPY_MODEL_03097db5f10a4ea58fc6fe9b01ae9b2a",
       "placeholder": "​",
       "style": "IPY_MODEL_05c08dfe11d74bc5aa0e86f526ba0831",
       "value": " 1500/3760 [03:23&lt;05:00,  7.51it/s]"
      }
     },
     "9406826ce3354051bcf7d2fcfda7dff9": {
      "model_module": "@jupyter-widgets/base",
      "model_module_version": "1.2.0",
      "model_name": "LayoutModel",
      "state": {
       "_model_module": "@jupyter-widgets/base",
       "_model_module_version": "1.2.0",
       "_model_name": "LayoutModel",
       "_view_count": null,
       "_view_module": "@jupyter-widgets/base",
       "_view_module_version": "1.2.0",
       "_view_name": "LayoutView",
       "align_content": null,
       "align_items": null,
       "align_self": null,
       "border": null,
       "bottom": null,
       "display": null,
       "flex": null,
       "flex_flow": null,
       "grid_area": null,
       "grid_auto_columns": null,
       "grid_auto_flow": null,
       "grid_auto_rows": null,
       "grid_column": null,
       "grid_gap": null,
       "grid_row": null,
       "grid_template_areas": null,
       "grid_template_columns": null,
       "grid_template_rows": null,
       "height": null,
       "justify_content": null,
       "justify_items": null,
       "left": null,
       "margin": null,
       "max_height": null,
       "max_width": null,
       "min_height": null,
       "min_width": null,
       "object_fit": null,
       "object_position": null,
       "order": null,
       "overflow": null,
       "overflow_x": null,
       "overflow_y": null,
       "padding": null,
       "right": null,
       "top": null,
       "visibility": null,
       "width": null
      }
     },
     "945ebca1bc344f649e73a51fa7919c52": {
      "model_module": "@jupyter-widgets/controls",
      "model_module_version": "1.5.0",
      "model_name": "HTMLModel",
      "state": {
       "_dom_classes": [],
       "_model_module": "@jupyter-widgets/controls",
       "_model_module_version": "1.5.0",
       "_model_name": "HTMLModel",
       "_view_count": null,
       "_view_module": "@jupyter-widgets/controls",
       "_view_module_version": "1.5.0",
       "_view_name": "HTMLView",
       "description": "",
       "description_tooltip": null,
       "layout": "IPY_MODEL_a6f2b617c4844936b7cb35148d1c3ea6",
       "placeholder": "​",
       "style": "IPY_MODEL_b45e16223d1e4bd494d375473a78eead",
       "value": "100%"
      }
     },
     "9698fc840b174e148a02277b75d665f5": {
      "model_module": "@jupyter-widgets/base",
      "model_module_version": "1.2.0",
      "model_name": "LayoutModel",
      "state": {
       "_model_module": "@jupyter-widgets/base",
       "_model_module_version": "1.2.0",
       "_model_name": "LayoutModel",
       "_view_count": null,
       "_view_module": "@jupyter-widgets/base",
       "_view_module_version": "1.2.0",
       "_view_name": "LayoutView",
       "align_content": null,
       "align_items": null,
       "align_self": null,
       "border": null,
       "bottom": null,
       "display": null,
       "flex": null,
       "flex_flow": null,
       "grid_area": null,
       "grid_auto_columns": null,
       "grid_auto_flow": null,
       "grid_auto_rows": null,
       "grid_column": null,
       "grid_gap": null,
       "grid_row": null,
       "grid_template_areas": null,
       "grid_template_columns": null,
       "grid_template_rows": null,
       "height": null,
       "justify_content": null,
       "justify_items": null,
       "left": null,
       "margin": null,
       "max_height": null,
       "max_width": null,
       "min_height": null,
       "min_width": null,
       "object_fit": null,
       "object_position": null,
       "order": null,
       "overflow": null,
       "overflow_x": null,
       "overflow_y": null,
       "padding": null,
       "right": null,
       "top": null,
       "visibility": null,
       "width": null
      }
     },
     "9b88b68c218b485a8fda2e5082be258f": {
      "model_module": "@jupyter-widgets/controls",
      "model_module_version": "1.5.0",
      "model_name": "HTMLModel",
      "state": {
       "_dom_classes": [],
       "_model_module": "@jupyter-widgets/controls",
       "_model_module_version": "1.5.0",
       "_model_name": "HTMLModel",
       "_view_count": null,
       "_view_module": "@jupyter-widgets/controls",
       "_view_module_version": "1.5.0",
       "_view_name": "HTMLView",
       "description": "",
       "description_tooltip": null,
       "layout": "IPY_MODEL_e70d65ec528e4e0e9a77c444a300dc8a",
       "placeholder": "​",
       "style": "IPY_MODEL_af431595dfef46e99a67f821db8d5b18",
       "value": " 6/6 [00:00&lt;00:00, 118.00it/s]"
      }
     },
     "a6f2b617c4844936b7cb35148d1c3ea6": {
      "model_module": "@jupyter-widgets/base",
      "model_module_version": "1.2.0",
      "model_name": "LayoutModel",
      "state": {
       "_model_module": "@jupyter-widgets/base",
       "_model_module_version": "1.2.0",
       "_model_name": "LayoutModel",
       "_view_count": null,
       "_view_module": "@jupyter-widgets/base",
       "_view_module_version": "1.2.0",
       "_view_name": "LayoutView",
       "align_content": null,
       "align_items": null,
       "align_self": null,
       "border": null,
       "bottom": null,
       "display": null,
       "flex": null,
       "flex_flow": null,
       "grid_area": null,
       "grid_auto_columns": null,
       "grid_auto_flow": null,
       "grid_auto_rows": null,
       "grid_column": null,
       "grid_gap": null,
       "grid_row": null,
       "grid_template_areas": null,
       "grid_template_columns": null,
       "grid_template_rows": null,
       "height": null,
       "justify_content": null,
       "justify_items": null,
       "left": null,
       "margin": null,
       "max_height": null,
       "max_width": null,
       "min_height": null,
       "min_width": null,
       "object_fit": null,
       "object_position": null,
       "order": null,
       "overflow": null,
       "overflow_x": null,
       "overflow_y": null,
       "padding": null,
       "right": null,
       "top": null,
       "visibility": null,
       "width": null
      }
     },
     "a7208625648d4e7f9ec2ac8147960e19": {
      "model_module": "@jupyter-widgets/controls",
      "model_module_version": "1.5.0",
      "model_name": "FloatProgressModel",
      "state": {
       "_dom_classes": [],
       "_model_module": "@jupyter-widgets/controls",
       "_model_module_version": "1.5.0",
       "_model_name": "FloatProgressModel",
       "_view_count": null,
       "_view_module": "@jupyter-widgets/controls",
       "_view_module_version": "1.5.0",
       "_view_name": "ProgressView",
       "bar_style": "danger",
       "description": "",
       "description_tooltip": null,
       "layout": "IPY_MODEL_dd373bb6a0ee40d6b8f710b331bba050",
       "max": 3760.0,
       "min": 0.0,
       "orientation": "horizontal",
       "style": "IPY_MODEL_796faa64ee314711b8ef369b4910cb47",
       "value": 1500.0
      }
     },
     "a931e6bfa082402383cac3b6c78240d0": {
      "model_module": "@jupyter-widgets/base",
      "model_module_version": "1.2.0",
      "model_name": "LayoutModel",
      "state": {
       "_model_module": "@jupyter-widgets/base",
       "_model_module_version": "1.2.0",
       "_model_name": "LayoutModel",
       "_view_count": null,
       "_view_module": "@jupyter-widgets/base",
       "_view_module_version": "1.2.0",
       "_view_name": "LayoutView",
       "align_content": null,
       "align_items": null,
       "align_self": null,
       "border": null,
       "bottom": null,
       "display": null,
       "flex": null,
       "flex_flow": null,
       "grid_area": null,
       "grid_auto_columns": null,
       "grid_auto_flow": null,
       "grid_auto_rows": null,
       "grid_column": null,
       "grid_gap": null,
       "grid_row": null,
       "grid_template_areas": null,
       "grid_template_columns": null,
       "grid_template_rows": null,
       "height": null,
       "justify_content": null,
       "justify_items": null,
       "left": null,
       "margin": null,
       "max_height": null,
       "max_width": null,
       "min_height": null,
       "min_width": null,
       "object_fit": null,
       "object_position": null,
       "order": null,
       "overflow": null,
       "overflow_x": null,
       "overflow_y": null,
       "padding": null,
       "right": null,
       "top": null,
       "visibility": null,
       "width": null
      }
     },
     "af431595dfef46e99a67f821db8d5b18": {
      "model_module": "@jupyter-widgets/controls",
      "model_module_version": "1.5.0",
      "model_name": "DescriptionStyleModel",
      "state": {
       "_model_module": "@jupyter-widgets/controls",
       "_model_module_version": "1.5.0",
       "_model_name": "DescriptionStyleModel",
       "_view_count": null,
       "_view_module": "@jupyter-widgets/base",
       "_view_module_version": "1.2.0",
       "_view_name": "StyleView",
       "description_width": ""
      }
     },
     "af591288bd2647c7939cf097934dedc0": {
      "model_module": "@jupyter-widgets/base",
      "model_module_version": "1.2.0",
      "model_name": "LayoutModel",
      "state": {
       "_model_module": "@jupyter-widgets/base",
       "_model_module_version": "1.2.0",
       "_model_name": "LayoutModel",
       "_view_count": null,
       "_view_module": "@jupyter-widgets/base",
       "_view_module_version": "1.2.0",
       "_view_name": "LayoutView",
       "align_content": null,
       "align_items": null,
       "align_self": null,
       "border": null,
       "bottom": null,
       "display": null,
       "flex": null,
       "flex_flow": null,
       "grid_area": null,
       "grid_auto_columns": null,
       "grid_auto_flow": null,
       "grid_auto_rows": null,
       "grid_column": null,
       "grid_gap": null,
       "grid_row": null,
       "grid_template_areas": null,
       "grid_template_columns": null,
       "grid_template_rows": null,
       "height": null,
       "justify_content": null,
       "justify_items": null,
       "left": null,
       "margin": null,
       "max_height": null,
       "max_width": null,
       "min_height": null,
       "min_width": null,
       "object_fit": null,
       "object_position": null,
       "order": null,
       "overflow": null,
       "overflow_x": null,
       "overflow_y": null,
       "padding": null,
       "right": null,
       "top": null,
       "visibility": null,
       "width": null
      }
     },
     "afd7296d6ea74362848ba73498a7e742": {
      "model_module": "@jupyter-widgets/controls",
      "model_module_version": "1.5.0",
      "model_name": "HBoxModel",
      "state": {
       "_dom_classes": [],
       "_model_module": "@jupyter-widgets/controls",
       "_model_module_version": "1.5.0",
       "_model_name": "HBoxModel",
       "_view_count": null,
       "_view_module": "@jupyter-widgets/controls",
       "_view_module_version": "1.5.0",
       "_view_name": "HBoxView",
       "box_style": "",
       "children": [
        "IPY_MODEL_3ec3f1cec72748c299a089852ca3bddf",
        "IPY_MODEL_a7208625648d4e7f9ec2ac8147960e19",
        "IPY_MODEL_87bee079a8bf49a595c1c72f1159ffc8"
       ],
       "layout": "IPY_MODEL_88594847700f4fe2a396856a19ff049e"
      }
     },
     "b087b1f3862b4c96a80cdd9da68fd980": {
      "model_module": "@jupyter-widgets/base",
      "model_module_version": "1.2.0",
      "model_name": "LayoutModel",
      "state": {
       "_model_module": "@jupyter-widgets/base",
       "_model_module_version": "1.2.0",
       "_model_name": "LayoutModel",
       "_view_count": null,
       "_view_module": "@jupyter-widgets/base",
       "_view_module_version": "1.2.0",
       "_view_name": "LayoutView",
       "align_content": null,
       "align_items": null,
       "align_self": null,
       "border": null,
       "bottom": null,
       "display": null,
       "flex": null,
       "flex_flow": null,
       "grid_area": null,
       "grid_auto_columns": null,
       "grid_auto_flow": null,
       "grid_auto_rows": null,
       "grid_column": null,
       "grid_gap": null,
       "grid_row": null,
       "grid_template_areas": null,
       "grid_template_columns": null,
       "grid_template_rows": null,
       "height": null,
       "justify_content": null,
       "justify_items": null,
       "left": null,
       "margin": null,
       "max_height": null,
       "max_width": null,
       "min_height": null,
       "min_width": null,
       "object_fit": null,
       "object_position": null,
       "order": null,
       "overflow": null,
       "overflow_x": null,
       "overflow_y": null,
       "padding": null,
       "right": null,
       "top": null,
       "visibility": null,
       "width": null
      }
     },
     "b45e16223d1e4bd494d375473a78eead": {
      "model_module": "@jupyter-widgets/controls",
      "model_module_version": "1.5.0",
      "model_name": "DescriptionStyleModel",
      "state": {
       "_model_module": "@jupyter-widgets/controls",
       "_model_module_version": "1.5.0",
       "_model_name": "DescriptionStyleModel",
       "_view_count": null,
       "_view_module": "@jupyter-widgets/base",
       "_view_module_version": "1.2.0",
       "_view_name": "StyleView",
       "description_width": ""
      }
     },
     "b6168cc8b24d455ba7e91bdd796e1573": {
      "model_module": "@jupyter-widgets/controls",
      "model_module_version": "1.5.0",
      "model_name": "ProgressStyleModel",
      "state": {
       "_model_module": "@jupyter-widgets/controls",
       "_model_module_version": "1.5.0",
       "_model_name": "ProgressStyleModel",
       "_view_count": null,
       "_view_module": "@jupyter-widgets/base",
       "_view_module_version": "1.2.0",
       "_view_name": "StyleView",
       "bar_color": null,
       "description_width": ""
      }
     },
     "b7464046130a4097b1a4d814e3fdb7bf": {
      "model_module": "@jupyter-widgets/controls",
      "model_module_version": "1.5.0",
      "model_name": "HBoxModel",
      "state": {
       "_dom_classes": [],
       "_model_module": "@jupyter-widgets/controls",
       "_model_module_version": "1.5.0",
       "_model_name": "HBoxModel",
       "_view_count": null,
       "_view_module": "@jupyter-widgets/controls",
       "_view_module_version": "1.5.0",
       "_view_name": "HBoxView",
       "box_style": "",
       "children": [
        "IPY_MODEL_945ebca1bc344f649e73a51fa7919c52",
        "IPY_MODEL_e06ba83c2de743f39b92bf288e2fc208",
        "IPY_MODEL_15e0b89d02114149844044d058d61a96"
       ],
       "layout": "IPY_MODEL_9698fc840b174e148a02277b75d665f5"
      }
     },
     "b75befd7929540c2bee2bc14e7ffa8b6": {
      "model_module": "@jupyter-widgets/controls",
      "model_module_version": "1.5.0",
      "model_name": "FloatProgressModel",
      "state": {
       "_dom_classes": [],
       "_model_module": "@jupyter-widgets/controls",
       "_model_module_version": "1.5.0",
       "_model_name": "FloatProgressModel",
       "_view_count": null,
       "_view_module": "@jupyter-widgets/controls",
       "_view_module_version": "1.5.0",
       "_view_name": "ProgressView",
       "bar_style": "success",
       "description": "",
       "description_tooltip": null,
       "layout": "IPY_MODEL_54b5da3ff6164dc7aa983a30260876e7",
       "max": 6.0,
       "min": 0.0,
       "orientation": "horizontal",
       "style": "IPY_MODEL_391fb4eed9154137aa2fcab357e24f9a",
       "value": 6.0
      }
     },
     "d317e76354a7439281f8772dda23c64f": {
      "model_module": "@jupyter-widgets/base",
      "model_module_version": "1.2.0",
      "model_name": "LayoutModel",
      "state": {
       "_model_module": "@jupyter-widgets/base",
       "_model_module_version": "1.2.0",
       "_model_name": "LayoutModel",
       "_view_count": null,
       "_view_module": "@jupyter-widgets/base",
       "_view_module_version": "1.2.0",
       "_view_name": "LayoutView",
       "align_content": null,
       "align_items": null,
       "align_self": null,
       "border": null,
       "bottom": null,
       "display": null,
       "flex": null,
       "flex_flow": null,
       "grid_area": null,
       "grid_auto_columns": null,
       "grid_auto_flow": null,
       "grid_auto_rows": null,
       "grid_column": null,
       "grid_gap": null,
       "grid_row": null,
       "grid_template_areas": null,
       "grid_template_columns": null,
       "grid_template_rows": null,
       "height": null,
       "justify_content": null,
       "justify_items": null,
       "left": null,
       "margin": null,
       "max_height": null,
       "max_width": null,
       "min_height": null,
       "min_width": null,
       "object_fit": null,
       "object_position": null,
       "order": null,
       "overflow": null,
       "overflow_x": null,
       "overflow_y": null,
       "padding": null,
       "right": null,
       "top": null,
       "visibility": null,
       "width": null
      }
     },
     "d56a02c99f6f407981eff6d85b854ab5": {
      "model_module": "@jupyter-widgets/base",
      "model_module_version": "1.2.0",
      "model_name": "LayoutModel",
      "state": {
       "_model_module": "@jupyter-widgets/base",
       "_model_module_version": "1.2.0",
       "_model_name": "LayoutModel",
       "_view_count": null,
       "_view_module": "@jupyter-widgets/base",
       "_view_module_version": "1.2.0",
       "_view_name": "LayoutView",
       "align_content": null,
       "align_items": null,
       "align_self": null,
       "border": null,
       "bottom": null,
       "display": null,
       "flex": null,
       "flex_flow": null,
       "grid_area": null,
       "grid_auto_columns": null,
       "grid_auto_flow": null,
       "grid_auto_rows": null,
       "grid_column": null,
       "grid_gap": null,
       "grid_row": null,
       "grid_template_areas": null,
       "grid_template_columns": null,
       "grid_template_rows": null,
       "height": null,
       "justify_content": null,
       "justify_items": null,
       "left": null,
       "margin": null,
       "max_height": null,
       "max_width": null,
       "min_height": null,
       "min_width": null,
       "object_fit": null,
       "object_position": null,
       "order": null,
       "overflow": null,
       "overflow_x": null,
       "overflow_y": null,
       "padding": null,
       "right": null,
       "top": null,
       "visibility": null,
       "width": null
      }
     },
     "dc75a6f6167e4c0e8a91df5c796c392e": {
      "model_module": "@jupyter-widgets/base",
      "model_module_version": "1.2.0",
      "model_name": "LayoutModel",
      "state": {
       "_model_module": "@jupyter-widgets/base",
       "_model_module_version": "1.2.0",
       "_model_name": "LayoutModel",
       "_view_count": null,
       "_view_module": "@jupyter-widgets/base",
       "_view_module_version": "1.2.0",
       "_view_name": "LayoutView",
       "align_content": null,
       "align_items": null,
       "align_self": null,
       "border": null,
       "bottom": null,
       "display": null,
       "flex": null,
       "flex_flow": null,
       "grid_area": null,
       "grid_auto_columns": null,
       "grid_auto_flow": null,
       "grid_auto_rows": null,
       "grid_column": null,
       "grid_gap": null,
       "grid_row": null,
       "grid_template_areas": null,
       "grid_template_columns": null,
       "grid_template_rows": null,
       "height": null,
       "justify_content": null,
       "justify_items": null,
       "left": null,
       "margin": null,
       "max_height": null,
       "max_width": null,
       "min_height": null,
       "min_width": null,
       "object_fit": null,
       "object_position": null,
       "order": null,
       "overflow": null,
       "overflow_x": null,
       "overflow_y": null,
       "padding": null,
       "right": null,
       "top": null,
       "visibility": null,
       "width": null
      }
     },
     "dd373bb6a0ee40d6b8f710b331bba050": {
      "model_module": "@jupyter-widgets/base",
      "model_module_version": "1.2.0",
      "model_name": "LayoutModel",
      "state": {
       "_model_module": "@jupyter-widgets/base",
       "_model_module_version": "1.2.0",
       "_model_name": "LayoutModel",
       "_view_count": null,
       "_view_module": "@jupyter-widgets/base",
       "_view_module_version": "1.2.0",
       "_view_name": "LayoutView",
       "align_content": null,
       "align_items": null,
       "align_self": null,
       "border": null,
       "bottom": null,
       "display": null,
       "flex": null,
       "flex_flow": null,
       "grid_area": null,
       "grid_auto_columns": null,
       "grid_auto_flow": null,
       "grid_auto_rows": null,
       "grid_column": null,
       "grid_gap": null,
       "grid_row": null,
       "grid_template_areas": null,
       "grid_template_columns": null,
       "grid_template_rows": null,
       "height": null,
       "justify_content": null,
       "justify_items": null,
       "left": null,
       "margin": null,
       "max_height": null,
       "max_width": null,
       "min_height": null,
       "min_width": null,
       "object_fit": null,
       "object_position": null,
       "order": null,
       "overflow": null,
       "overflow_x": null,
       "overflow_y": null,
       "padding": null,
       "right": null,
       "top": null,
       "visibility": null,
       "width": null
      }
     },
     "e06ba83c2de743f39b92bf288e2fc208": {
      "model_module": "@jupyter-widgets/controls",
      "model_module_version": "1.5.0",
      "model_name": "FloatProgressModel",
      "state": {
       "_dom_classes": [],
       "_model_module": "@jupyter-widgets/controls",
       "_model_module_version": "1.5.0",
       "_model_name": "FloatProgressModel",
       "_view_count": null,
       "_view_module": "@jupyter-widgets/controls",
       "_view_module_version": "1.5.0",
       "_view_name": "ProgressView",
       "bar_style": "success",
       "description": "",
       "description_tooltip": null,
       "layout": "IPY_MODEL_9406826ce3354051bcf7d2fcfda7dff9",
       "max": 1000000.0,
       "min": 0.0,
       "orientation": "horizontal",
       "style": "IPY_MODEL_41914b24069640559d3f7829d93ac842",
       "value": 1000000.0
      }
     },
     "e70d65ec528e4e0e9a77c444a300dc8a": {
      "model_module": "@jupyter-widgets/base",
      "model_module_version": "1.2.0",
      "model_name": "LayoutModel",
      "state": {
       "_model_module": "@jupyter-widgets/base",
       "_model_module_version": "1.2.0",
       "_model_name": "LayoutModel",
       "_view_count": null,
       "_view_module": "@jupyter-widgets/base",
       "_view_module_version": "1.2.0",
       "_view_name": "LayoutView",
       "align_content": null,
       "align_items": null,
       "align_self": null,
       "border": null,
       "bottom": null,
       "display": null,
       "flex": null,
       "flex_flow": null,
       "grid_area": null,
       "grid_auto_columns": null,
       "grid_auto_flow": null,
       "grid_auto_rows": null,
       "grid_column": null,
       "grid_gap": null,
       "grid_row": null,
       "grid_template_areas": null,
       "grid_template_columns": null,
       "grid_template_rows": null,
       "height": null,
       "justify_content": null,
       "justify_items": null,
       "left": null,
       "margin": null,
       "max_height": null,
       "max_width": null,
       "min_height": null,
       "min_width": null,
       "object_fit": null,
       "object_position": null,
       "order": null,
       "overflow": null,
       "overflow_x": null,
       "overflow_y": null,
       "padding": null,
       "right": null,
       "top": null,
       "visibility": null,
       "width": null
      }
     },
     "f2dcc9024691498a8a99a785f97fbb78": {
      "model_module": "@jupyter-widgets/controls",
      "model_module_version": "1.5.0",
      "model_name": "DescriptionStyleModel",
      "state": {
       "_model_module": "@jupyter-widgets/controls",
       "_model_module_version": "1.5.0",
       "_model_name": "DescriptionStyleModel",
       "_view_count": null,
       "_view_module": "@jupyter-widgets/base",
       "_view_module_version": "1.2.0",
       "_view_name": "StyleView",
       "description_width": ""
      }
     },
     "fc9c4fa833034f1886d52df131986348": {
      "model_module": "@jupyter-widgets/controls",
      "model_module_version": "1.5.0",
      "model_name": "FloatProgressModel",
      "state": {
       "_dom_classes": [],
       "_model_module": "@jupyter-widgets/controls",
       "_model_module_version": "1.5.0",
       "_model_name": "FloatProgressModel",
       "_view_count": null,
       "_view_module": "@jupyter-widgets/controls",
       "_view_module_version": "1.5.0",
       "_view_name": "ProgressView",
       "bar_style": "danger",
       "description": "",
       "description_tooltip": null,
       "layout": "IPY_MODEL_dc75a6f6167e4c0e8a91df5c796c392e",
       "max": 3760.0,
       "min": 0.0,
       "orientation": "horizontal",
       "style": "IPY_MODEL_6f84ad67638e40fd929665e75d3d1aa3",
       "value": 1500.0
      }
     }
    },
    "version_major": 2,
    "version_minor": 0
   }
  }
 },
 "nbformat": 4,
 "nbformat_minor": 5
}
